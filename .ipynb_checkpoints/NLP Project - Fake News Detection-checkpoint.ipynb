{
 "cells": [
  {
   "cell_type": "markdown",
   "id": "36688001",
   "metadata": {},
   "source": [
    "# About the data"
   ]
  },
  {
   "cell_type": "markdown",
   "id": "e3c6bb41",
   "metadata": {},
   "source": [
    "\n",
    "1.id: unique id for a news article\n",
    "\n",
    "2.title: the title of the news article\n",
    "\n",
    "3.author: author of the news article\n",
    "\n",
    "4.text: the text of the article; could be incomplete\n",
    "\n",
    "5.label: a label that marks whether the news article is real or fake¶\n",
    "\n",
    "1 => fake news\n",
    "\n",
    "0 => real news"
   ]
  },
  {
   "cell_type": "markdown",
   "id": "5e0f4fda",
   "metadata": {},
   "source": [
    "---"
   ]
  },
  {
   "cell_type": "markdown",
   "id": "96364f49",
   "metadata": {},
   "source": [
    "# importing libraries"
   ]
  },
  {
   "cell_type": "code",
   "execution_count": 174,
   "id": "0c2ef2c2",
   "metadata": {},
   "outputs": [],
   "source": [
    "import numpy as np\n",
    "import pandas as pd\n",
    "from matplotlib import pyplot as plt\n",
    "%matplotlib inline\n",
    "import seaborn as sns\n",
    "import re\n",
    "import string\n",
    "import nltk\n",
    "from nltk.corpus import stopwords\n",
    "from nltk.stem.porter import PorterStemmer\n",
    "from nltk.stem import WordNetLemmatizer\n",
    "from sklearn.feature_extraction.text import CountVectorizer\n",
    "from sklearn.feature_extraction.text import TfidfTransformer\n",
    "from sklearn.linear_model import LogisticRegression\n",
    "from sklearn.naive_bayes import GaussianNB\n",
    "from sklearn.svm import SVC\n",
    "from sklearn.tree import DecisionTreeClassifier\n",
    "from sklearn.ensemble import RandomForestClassifier , GradientBoostingClassifier\n",
    "from sklearn.model_selection import train_test_split , GridSearchCV\n",
    "from sklearn.metrics import accuracy_score , ConfusionMatrixDisplay , classification_report , roc_curve, confusion_matrix"
   ]
  },
  {
   "cell_type": "code",
   "execution_count": 3,
   "id": "cc73574c",
   "metadata": {
    "scrolled": true
   },
   "outputs": [
    {
     "data": {
      "text/html": [
       "<div>\n",
       "<style scoped>\n",
       "    .dataframe tbody tr th:only-of-type {\n",
       "        vertical-align: middle;\n",
       "    }\n",
       "\n",
       "    .dataframe tbody tr th {\n",
       "        vertical-align: top;\n",
       "    }\n",
       "\n",
       "    .dataframe thead th {\n",
       "        text-align: right;\n",
       "    }\n",
       "</style>\n",
       "<table border=\"1\" class=\"dataframe\">\n",
       "  <thead>\n",
       "    <tr style=\"text-align: right;\">\n",
       "      <th></th>\n",
       "      <th>id</th>\n",
       "      <th>title</th>\n",
       "      <th>author</th>\n",
       "      <th>text</th>\n",
       "      <th>label</th>\n",
       "    </tr>\n",
       "  </thead>\n",
       "  <tbody>\n",
       "    <tr>\n",
       "      <th>0</th>\n",
       "      <td>0</td>\n",
       "      <td>House Dem Aide: We Didn’t Even See Comey’s Let...</td>\n",
       "      <td>Darrell Lucus</td>\n",
       "      <td>House Dem Aide: We Didn’t Even See Comey’s Let...</td>\n",
       "      <td>1</td>\n",
       "    </tr>\n",
       "    <tr>\n",
       "      <th>1</th>\n",
       "      <td>1</td>\n",
       "      <td>FLYNN: Hillary Clinton, Big Woman on Campus - ...</td>\n",
       "      <td>Daniel J. Flynn</td>\n",
       "      <td>Ever get the feeling your life circles the rou...</td>\n",
       "      <td>0</td>\n",
       "    </tr>\n",
       "    <tr>\n",
       "      <th>2</th>\n",
       "      <td>2</td>\n",
       "      <td>Why the Truth Might Get You Fired</td>\n",
       "      <td>Consortiumnews.com</td>\n",
       "      <td>Why the Truth Might Get You Fired October 29, ...</td>\n",
       "      <td>1</td>\n",
       "    </tr>\n",
       "    <tr>\n",
       "      <th>3</th>\n",
       "      <td>3</td>\n",
       "      <td>15 Civilians Killed In Single US Airstrike Hav...</td>\n",
       "      <td>Jessica Purkiss</td>\n",
       "      <td>Videos 15 Civilians Killed In Single US Airstr...</td>\n",
       "      <td>1</td>\n",
       "    </tr>\n",
       "    <tr>\n",
       "      <th>4</th>\n",
       "      <td>4</td>\n",
       "      <td>Iranian woman jailed for fictional unpublished...</td>\n",
       "      <td>Howard Portnoy</td>\n",
       "      <td>Print \\nAn Iranian woman has been sentenced to...</td>\n",
       "      <td>1</td>\n",
       "    </tr>\n",
       "  </tbody>\n",
       "</table>\n",
       "</div>"
      ],
      "text/plain": [
       "   id                                              title              author   \n",
       "0   0  House Dem Aide: We Didn’t Even See Comey’s Let...       Darrell Lucus  \\\n",
       "1   1  FLYNN: Hillary Clinton, Big Woman on Campus - ...     Daniel J. Flynn   \n",
       "2   2                  Why the Truth Might Get You Fired  Consortiumnews.com   \n",
       "3   3  15 Civilians Killed In Single US Airstrike Hav...     Jessica Purkiss   \n",
       "4   4  Iranian woman jailed for fictional unpublished...      Howard Portnoy   \n",
       "\n",
       "                                                text  label  \n",
       "0  House Dem Aide: We Didn’t Even See Comey’s Let...      1  \n",
       "1  Ever get the feeling your life circles the rou...      0  \n",
       "2  Why the Truth Might Get You Fired October 29, ...      1  \n",
       "3  Videos 15 Civilians Killed In Single US Airstr...      1  \n",
       "4  Print \\nAn Iranian woman has been sentenced to...      1  "
      ]
     },
     "execution_count": 3,
     "metadata": {},
     "output_type": "execute_result"
    }
   ],
   "source": [
    "train = pd.read_csv('fake-news/train.csv')\n",
    "train.head()"
   ]
  },
  {
   "cell_type": "code",
   "execution_count": 4,
   "id": "c5b424ba",
   "metadata": {},
   "outputs": [
    {
     "data": {
      "text/plain": [
       "(20800, 5)"
      ]
     },
     "execution_count": 4,
     "metadata": {},
     "output_type": "execute_result"
    }
   ],
   "source": [
    "train.shape"
   ]
  },
  {
   "cell_type": "code",
   "execution_count": 5,
   "id": "399f0ac5",
   "metadata": {
    "scrolled": false
   },
   "outputs": [
    {
     "name": "stdout",
     "output_type": "stream",
     "text": [
      "<class 'pandas.core.frame.DataFrame'>\n",
      "RangeIndex: 20800 entries, 0 to 20799\n",
      "Data columns (total 5 columns):\n",
      " #   Column  Non-Null Count  Dtype \n",
      "---  ------  --------------  ----- \n",
      " 0   id      20800 non-null  int64 \n",
      " 1   title   20242 non-null  object\n",
      " 2   author  18843 non-null  object\n",
      " 3   text    20761 non-null  object\n",
      " 4   label   20800 non-null  int64 \n",
      "dtypes: int64(2), object(3)\n",
      "memory usage: 812.6+ KB\n"
     ]
    }
   ],
   "source": [
    "train.info()\n"
   ]
  },
  {
   "cell_type": "code",
   "execution_count": 6,
   "id": "f8aebe17",
   "metadata": {},
   "outputs": [
    {
     "data": {
      "text/plain": [
       "id           0\n",
       "title      558\n",
       "author    1957\n",
       "text        39\n",
       "label        0\n",
       "dtype: int64"
      ]
     },
     "execution_count": 6,
     "metadata": {},
     "output_type": "execute_result"
    }
   ],
   "source": [
    "train.isna().sum()"
   ]
  },
  {
   "cell_type": "code",
   "execution_count": 7,
   "id": "0a47c3cb",
   "metadata": {
    "scrolled": false
   },
   "outputs": [
    {
     "data": {
      "text/html": [
       "<div>\n",
       "<style scoped>\n",
       "    .dataframe tbody tr th:only-of-type {\n",
       "        vertical-align: middle;\n",
       "    }\n",
       "\n",
       "    .dataframe tbody tr th {\n",
       "        vertical-align: top;\n",
       "    }\n",
       "\n",
       "    .dataframe thead th {\n",
       "        text-align: right;\n",
       "    }\n",
       "</style>\n",
       "<table border=\"1\" class=\"dataframe\">\n",
       "  <thead>\n",
       "    <tr style=\"text-align: right;\">\n",
       "      <th></th>\n",
       "      <th>id</th>\n",
       "      <th>title</th>\n",
       "      <th>author</th>\n",
       "      <th>text</th>\n",
       "      <th>label</th>\n",
       "    </tr>\n",
       "  </thead>\n",
       "  <tbody>\n",
       "    <tr>\n",
       "      <th>6</th>\n",
       "      <td>6</td>\n",
       "      <td>Life: Life Of Luxury: Elton John’s 6 Favorite ...</td>\n",
       "      <td>NaN</td>\n",
       "      <td>Ever wonder how Britain’s most iconic pop pian...</td>\n",
       "      <td>1</td>\n",
       "    </tr>\n",
       "    <tr>\n",
       "      <th>8</th>\n",
       "      <td>8</td>\n",
       "      <td>Excerpts From a Draft Script for Donald Trump’...</td>\n",
       "      <td>NaN</td>\n",
       "      <td>Donald J. Trump is scheduled to make a highly ...</td>\n",
       "      <td>0</td>\n",
       "    </tr>\n",
       "    <tr>\n",
       "      <th>20</th>\n",
       "      <td>20</td>\n",
       "      <td>News: Hope For The GOP: A Nude Paul Ryan Has J...</td>\n",
       "      <td>NaN</td>\n",
       "      <td>Email \\nSince Donald Trump entered the electio...</td>\n",
       "      <td>1</td>\n",
       "    </tr>\n",
       "    <tr>\n",
       "      <th>23</th>\n",
       "      <td>23</td>\n",
       "      <td>Massachusetts Cop’s Wife Busted for Pinning Fa...</td>\n",
       "      <td>NaN</td>\n",
       "      <td>Massachusetts Cop’s Wife Busted for Pinning Fa...</td>\n",
       "      <td>1</td>\n",
       "    </tr>\n",
       "    <tr>\n",
       "      <th>31</th>\n",
       "      <td>31</td>\n",
       "      <td>Israel is Becoming Pivotal to China’s Mid-East...</td>\n",
       "      <td>NaN</td>\n",
       "      <td>Country: Israel While China is silently playin...</td>\n",
       "      <td>1</td>\n",
       "    </tr>\n",
       "    <tr>\n",
       "      <th>...</th>\n",
       "      <td>...</td>\n",
       "      <td>...</td>\n",
       "      <td>...</td>\n",
       "      <td>...</td>\n",
       "      <td>...</td>\n",
       "    </tr>\n",
       "    <tr>\n",
       "      <th>20718</th>\n",
       "      <td>20718</td>\n",
       "      <td>This Is The Best Picture In Human History | Da...</td>\n",
       "      <td>NaN</td>\n",
       "      <td>This Is The Best Picture In Human History By: ...</td>\n",
       "      <td>1</td>\n",
       "    </tr>\n",
       "    <tr>\n",
       "      <th>20728</th>\n",
       "      <td>20728</td>\n",
       "      <td>Trump warns of World War III if Clinton is ele...</td>\n",
       "      <td>NaN</td>\n",
       "      <td>Email Donald Trump warned in an interview Tues...</td>\n",
       "      <td>1</td>\n",
       "    </tr>\n",
       "    <tr>\n",
       "      <th>20745</th>\n",
       "      <td>20745</td>\n",
       "      <td>Thomas Frank Explores Whether Hillary Clinton ...</td>\n",
       "      <td>NaN</td>\n",
       "      <td>Thomas Frank Explores Whether Hillary Clinton ...</td>\n",
       "      <td>1</td>\n",
       "    </tr>\n",
       "    <tr>\n",
       "      <th>20768</th>\n",
       "      <td>20768</td>\n",
       "      <td>Osama bin Laden’s older brother rents out luxu...</td>\n",
       "      <td>NaN</td>\n",
       "      <td>Osama bin Laden’s older brother rents out luxu...</td>\n",
       "      <td>1</td>\n",
       "    </tr>\n",
       "    <tr>\n",
       "      <th>20786</th>\n",
       "      <td>20786</td>\n",
       "      <td>Government Forces Advancing at Damascus-Aleppo...</td>\n",
       "      <td>NaN</td>\n",
       "      <td>#FROMTHEFRONT #MAPS 22.11.2016 - 1,361 views 5...</td>\n",
       "      <td>1</td>\n",
       "    </tr>\n",
       "  </tbody>\n",
       "</table>\n",
       "<p>1957 rows × 5 columns</p>\n",
       "</div>"
      ],
      "text/plain": [
       "          id                                              title author   \n",
       "6          6  Life: Life Of Luxury: Elton John’s 6 Favorite ...    NaN  \\\n",
       "8          8  Excerpts From a Draft Script for Donald Trump’...    NaN   \n",
       "20        20  News: Hope For The GOP: A Nude Paul Ryan Has J...    NaN   \n",
       "23        23  Massachusetts Cop’s Wife Busted for Pinning Fa...    NaN   \n",
       "31        31  Israel is Becoming Pivotal to China’s Mid-East...    NaN   \n",
       "...      ...                                                ...    ...   \n",
       "20718  20718  This Is The Best Picture In Human History | Da...    NaN   \n",
       "20728  20728  Trump warns of World War III if Clinton is ele...    NaN   \n",
       "20745  20745  Thomas Frank Explores Whether Hillary Clinton ...    NaN   \n",
       "20768  20768  Osama bin Laden’s older brother rents out luxu...    NaN   \n",
       "20786  20786  Government Forces Advancing at Damascus-Aleppo...    NaN   \n",
       "\n",
       "                                                    text  label  \n",
       "6      Ever wonder how Britain’s most iconic pop pian...      1  \n",
       "8      Donald J. Trump is scheduled to make a highly ...      0  \n",
       "20     Email \\nSince Donald Trump entered the electio...      1  \n",
       "23     Massachusetts Cop’s Wife Busted for Pinning Fa...      1  \n",
       "31     Country: Israel While China is silently playin...      1  \n",
       "...                                                  ...    ...  \n",
       "20718  This Is The Best Picture In Human History By: ...      1  \n",
       "20728  Email Donald Trump warned in an interview Tues...      1  \n",
       "20745  Thomas Frank Explores Whether Hillary Clinton ...      1  \n",
       "20768  Osama bin Laden’s older brother rents out luxu...      1  \n",
       "20786  #FROMTHEFRONT #MAPS 22.11.2016 - 1,361 views 5...      1  \n",
       "\n",
       "[1957 rows x 5 columns]"
      ]
     },
     "execution_count": 7,
     "metadata": {},
     "output_type": "execute_result"
    }
   ],
   "source": [
    "train[train['author'].isna()]"
   ]
  },
  {
   "cell_type": "code",
   "execution_count": 8,
   "id": "bf4b2802",
   "metadata": {},
   "outputs": [
    {
     "data": {
      "text/html": [
       "<div>\n",
       "<style scoped>\n",
       "    .dataframe tbody tr th:only-of-type {\n",
       "        vertical-align: middle;\n",
       "    }\n",
       "\n",
       "    .dataframe tbody tr th {\n",
       "        vertical-align: top;\n",
       "    }\n",
       "\n",
       "    .dataframe thead th {\n",
       "        text-align: right;\n",
       "    }\n",
       "</style>\n",
       "<table border=\"1\" class=\"dataframe\">\n",
       "  <thead>\n",
       "    <tr style=\"text-align: right;\">\n",
       "      <th></th>\n",
       "      <th>id</th>\n",
       "      <th>title</th>\n",
       "      <th>author</th>\n",
       "      <th>text</th>\n",
       "      <th>label</th>\n",
       "    </tr>\n",
       "  </thead>\n",
       "  <tbody>\n",
       "    <tr>\n",
       "      <th>53</th>\n",
       "      <td>53</td>\n",
       "      <td>NaN</td>\n",
       "      <td>Dairy✓ᵀᴿᵁᴹᴾ</td>\n",
       "      <td>Sounds like he has our president pegged. What ...</td>\n",
       "      <td>1</td>\n",
       "    </tr>\n",
       "    <tr>\n",
       "      <th>120</th>\n",
       "      <td>120</td>\n",
       "      <td>NaN</td>\n",
       "      <td>Anonymous</td>\n",
       "      <td>Same people all the time , i dont know how you...</td>\n",
       "      <td>1</td>\n",
       "    </tr>\n",
       "    <tr>\n",
       "      <th>124</th>\n",
       "      <td>124</td>\n",
       "      <td>NaN</td>\n",
       "      <td>SeekSearchDestory</td>\n",
       "      <td>You know, outside of any morality arguments, i...</td>\n",
       "      <td>1</td>\n",
       "    </tr>\n",
       "    <tr>\n",
       "      <th>140</th>\n",
       "      <td>140</td>\n",
       "      <td>NaN</td>\n",
       "      <td>Anonymous</td>\n",
       "      <td>There is a lot more than meets the eye to this...</td>\n",
       "      <td>1</td>\n",
       "    </tr>\n",
       "    <tr>\n",
       "      <th>196</th>\n",
       "      <td>196</td>\n",
       "      <td>NaN</td>\n",
       "      <td>Raffie</td>\n",
       "      <td>They got the heater turned up on high.</td>\n",
       "      <td>1</td>\n",
       "    </tr>\n",
       "    <tr>\n",
       "      <th>...</th>\n",
       "      <td>...</td>\n",
       "      <td>...</td>\n",
       "      <td>...</td>\n",
       "      <td>...</td>\n",
       "      <td>...</td>\n",
       "    </tr>\n",
       "    <tr>\n",
       "      <th>20568</th>\n",
       "      <td>20568</td>\n",
       "      <td>NaN</td>\n",
       "      <td>Cathy Milne</td>\n",
       "      <td>Amusing comment Gary! “Those   week!” So, are ...</td>\n",
       "      <td>1</td>\n",
       "    </tr>\n",
       "    <tr>\n",
       "      <th>20627</th>\n",
       "      <td>20627</td>\n",
       "      <td>NaN</td>\n",
       "      <td>Ramona</td>\n",
       "      <td>No she doesn’t have more money than God, every...</td>\n",
       "      <td>1</td>\n",
       "    </tr>\n",
       "    <tr>\n",
       "      <th>20636</th>\n",
       "      <td>20636</td>\n",
       "      <td>NaN</td>\n",
       "      <td>Dave Lowery</td>\n",
       "      <td>Trump all the way!</td>\n",
       "      <td>1</td>\n",
       "    </tr>\n",
       "    <tr>\n",
       "      <th>20771</th>\n",
       "      <td>20771</td>\n",
       "      <td>NaN</td>\n",
       "      <td>Letsbereal</td>\n",
       "      <td>DYN's Statement on Last Week's Botnet Attack h...</td>\n",
       "      <td>1</td>\n",
       "    </tr>\n",
       "    <tr>\n",
       "      <th>20772</th>\n",
       "      <td>20772</td>\n",
       "      <td>NaN</td>\n",
       "      <td>beersession</td>\n",
       "      <td>Kinda reminds me of when Carter gave away the ...</td>\n",
       "      <td>1</td>\n",
       "    </tr>\n",
       "  </tbody>\n",
       "</table>\n",
       "<p>558 rows × 5 columns</p>\n",
       "</div>"
      ],
      "text/plain": [
       "          id title             author   \n",
       "53        53   NaN        Dairy✓ᵀᴿᵁᴹᴾ  \\\n",
       "120      120   NaN          Anonymous   \n",
       "124      124   NaN  SeekSearchDestory   \n",
       "140      140   NaN          Anonymous   \n",
       "196      196   NaN             Raffie   \n",
       "...      ...   ...                ...   \n",
       "20568  20568   NaN        Cathy Milne   \n",
       "20627  20627   NaN             Ramona   \n",
       "20636  20636   NaN        Dave Lowery   \n",
       "20771  20771   NaN         Letsbereal   \n",
       "20772  20772   NaN        beersession   \n",
       "\n",
       "                                                    text  label  \n",
       "53     Sounds like he has our president pegged. What ...      1  \n",
       "120    Same people all the time , i dont know how you...      1  \n",
       "124    You know, outside of any morality arguments, i...      1  \n",
       "140    There is a lot more than meets the eye to this...      1  \n",
       "196               They got the heater turned up on high.      1  \n",
       "...                                                  ...    ...  \n",
       "20568  Amusing comment Gary! “Those   week!” So, are ...      1  \n",
       "20627  No she doesn’t have more money than God, every...      1  \n",
       "20636                                 Trump all the way!      1  \n",
       "20771  DYN's Statement on Last Week's Botnet Attack h...      1  \n",
       "20772  Kinda reminds me of when Carter gave away the ...      1  \n",
       "\n",
       "[558 rows x 5 columns]"
      ]
     },
     "execution_count": 8,
     "metadata": {},
     "output_type": "execute_result"
    }
   ],
   "source": [
    "train[train['title'].isna()]"
   ]
  },
  {
   "cell_type": "code",
   "execution_count": 9,
   "id": "8dd01792",
   "metadata": {},
   "outputs": [
    {
     "data": {
      "text/html": [
       "<div>\n",
       "<style scoped>\n",
       "    .dataframe tbody tr th:only-of-type {\n",
       "        vertical-align: middle;\n",
       "    }\n",
       "\n",
       "    .dataframe tbody tr th {\n",
       "        vertical-align: top;\n",
       "    }\n",
       "\n",
       "    .dataframe thead th {\n",
       "        text-align: right;\n",
       "    }\n",
       "</style>\n",
       "<table border=\"1\" class=\"dataframe\">\n",
       "  <thead>\n",
       "    <tr style=\"text-align: right;\">\n",
       "      <th></th>\n",
       "      <th>id</th>\n",
       "      <th>title</th>\n",
       "      <th>author</th>\n",
       "      <th>text</th>\n",
       "      <th>label</th>\n",
       "    </tr>\n",
       "  </thead>\n",
       "  <tbody>\n",
       "    <tr>\n",
       "      <th>142</th>\n",
       "      <td>142</td>\n",
       "      <td>Gorafi Magazine : Entretien exclusif avec Bara...</td>\n",
       "      <td>NaN</td>\n",
       "      <td>NaN</td>\n",
       "      <td>1</td>\n",
       "    </tr>\n",
       "    <tr>\n",
       "      <th>573</th>\n",
       "      <td>573</td>\n",
       "      <td>Le top des recherches Google passe en top des ...</td>\n",
       "      <td>NaN</td>\n",
       "      <td>NaN</td>\n",
       "      <td>1</td>\n",
       "    </tr>\n",
       "    <tr>\n",
       "      <th>1200</th>\n",
       "      <td>1200</td>\n",
       "      <td>La Corée du Nord annonce avoir envoyé un missi...</td>\n",
       "      <td>NaN</td>\n",
       "      <td>NaN</td>\n",
       "      <td>1</td>\n",
       "    </tr>\n",
       "    <tr>\n",
       "      <th>1911</th>\n",
       "      <td>1911</td>\n",
       "      <td>Grand-Prix du Brésil – Romain Grosjean obtient...</td>\n",
       "      <td>NaN</td>\n",
       "      <td>NaN</td>\n",
       "      <td>1</td>\n",
       "    </tr>\n",
       "    <tr>\n",
       "      <th>2148</th>\n",
       "      <td>2148</td>\n",
       "      <td>Gorafi Magazine: Barack Obama « Je vous ai déj...</td>\n",
       "      <td>NaN</td>\n",
       "      <td>NaN</td>\n",
       "      <td>1</td>\n",
       "    </tr>\n",
       "    <tr>\n",
       "      <th>2169</th>\n",
       "      <td>2169</td>\n",
       "      <td>#NDDL: Pour fêter l’autorisation des travaux, ...</td>\n",
       "      <td>NaN</td>\n",
       "      <td>NaN</td>\n",
       "      <td>1</td>\n",
       "    </tr>\n",
       "    <tr>\n",
       "      <th>2793</th>\n",
       "      <td>2793</td>\n",
       "      <td>«Pourquoi je suis candidat à la présidentielle...</td>\n",
       "      <td>NaN</td>\n",
       "      <td>NaN</td>\n",
       "      <td>1</td>\n",
       "    </tr>\n",
       "    <tr>\n",
       "      <th>3329</th>\n",
       "      <td>3329</td>\n",
       "      <td>GuinessBook : 100 millions d’Américains batten...</td>\n",
       "      <td>NaN</td>\n",
       "      <td>NaN</td>\n",
       "      <td>1</td>\n",
       "    </tr>\n",
       "    <tr>\n",
       "      <th>3729</th>\n",
       "      <td>3729</td>\n",
       "      <td>Les Américains ne sont plus qu’à quelques heur...</td>\n",
       "      <td>NaN</td>\n",
       "      <td>NaN</td>\n",
       "      <td>1</td>\n",
       "    </tr>\n",
       "    <tr>\n",
       "      <th>4288</th>\n",
       "      <td>4288</td>\n",
       "      <td>Hillary Clinton en 5 dates &gt;&gt; Le Gorafi</td>\n",
       "      <td>NaN</td>\n",
       "      <td>NaN</td>\n",
       "      <td>1</td>\n",
       "    </tr>\n",
       "    <tr>\n",
       "      <th>4358</th>\n",
       "      <td>4358</td>\n",
       "      <td>Ne supportant plus l’ambiance de la campagne é...</td>\n",
       "      <td>NaN</td>\n",
       "      <td>NaN</td>\n",
       "      <td>1</td>\n",
       "    </tr>\n",
       "    <tr>\n",
       "      <th>5717</th>\n",
       "      <td>5717</td>\n",
       "      <td>SPA : Enfermé depuis trois jours dans une cage...</td>\n",
       "      <td>NaN</td>\n",
       "      <td>NaN</td>\n",
       "      <td>1</td>\n",
       "    </tr>\n",
       "    <tr>\n",
       "      <th>6215</th>\n",
       "      <td>6215</td>\n",
       "      <td>New-York – Le lâcher de confettis prévu à Time...</td>\n",
       "      <td>NaN</td>\n",
       "      <td>NaN</td>\n",
       "      <td>1</td>\n",
       "    </tr>\n",
       "    <tr>\n",
       "      <th>6680</th>\n",
       "      <td>6680</td>\n",
       "      <td>Débat Primaire de la Droite : les Français pas...</td>\n",
       "      <td>NaN</td>\n",
       "      <td>NaN</td>\n",
       "      <td>1</td>\n",
       "    </tr>\n",
       "    <tr>\n",
       "      <th>8649</th>\n",
       "      <td>8649</td>\n",
       "      <td>Donald Trump s’excuse pour toutes les minorité...</td>\n",
       "      <td>NaN</td>\n",
       "      <td>NaN</td>\n",
       "      <td>1</td>\n",
       "    </tr>\n",
       "    <tr>\n",
       "      <th>8908</th>\n",
       "      <td>8908</td>\n",
       "      <td>“Notre batal a coulé” par l’homme qui fait des...</td>\n",
       "      <td>NaN</td>\n",
       "      <td>NaN</td>\n",
       "      <td>1</td>\n",
       "    </tr>\n",
       "    <tr>\n",
       "      <th>8922</th>\n",
       "      <td>8922</td>\n",
       "      <td>La Trump Tower cambriolée – les voleurs seraie...</td>\n",
       "      <td>NaN</td>\n",
       "      <td>NaN</td>\n",
       "      <td>1</td>\n",
       "    </tr>\n",
       "    <tr>\n",
       "      <th>9350</th>\n",
       "      <td>9350</td>\n",
       "      <td>La Russie a profité de l’élection américaine p...</td>\n",
       "      <td>NaN</td>\n",
       "      <td>NaN</td>\n",
       "      <td>1</td>\n",
       "    </tr>\n",
       "    <tr>\n",
       "      <th>9446</th>\n",
       "      <td>9446</td>\n",
       "      <td>Trop essoufflé après avoir cherché ses affaire...</td>\n",
       "      <td>NaN</td>\n",
       "      <td>NaN</td>\n",
       "      <td>1</td>\n",
       "    </tr>\n",
       "    <tr>\n",
       "      <th>9454</th>\n",
       "      <td>9454</td>\n",
       "      <td>Il saoule tout le monde avec son analyse polit...</td>\n",
       "      <td>NaN</td>\n",
       "      <td>NaN</td>\n",
       "      <td>1</td>\n",
       "    </tr>\n",
       "    <tr>\n",
       "      <th>9524</th>\n",
       "      <td>9524</td>\n",
       "      <td>Elections US : les premières estimations donne...</td>\n",
       "      <td>NaN</td>\n",
       "      <td>NaN</td>\n",
       "      <td>1</td>\n",
       "    </tr>\n",
       "    <tr>\n",
       "      <th>10466</th>\n",
       "      <td>10466</td>\n",
       "      <td>Sur Twitter, Donald Trump se félicite d’avoir ...</td>\n",
       "      <td>NaN</td>\n",
       "      <td>NaN</td>\n",
       "      <td>1</td>\n",
       "    </tr>\n",
       "    <tr>\n",
       "      <th>10867</th>\n",
       "      <td>10867</td>\n",
       "      <td>Live Soirée présidentielle US 2016 &gt;&gt; Le Gorafi</td>\n",
       "      <td>NaN</td>\n",
       "      <td>NaN</td>\n",
       "      <td>1</td>\n",
       "    </tr>\n",
       "    <tr>\n",
       "      <th>11450</th>\n",
       "      <td>11450</td>\n",
       "      <td>Vladimir Poutine est élu 45e Président des Eta...</td>\n",
       "      <td>NaN</td>\n",
       "      <td>NaN</td>\n",
       "      <td>1</td>\n",
       "    </tr>\n",
       "    <tr>\n",
       "      <th>11486</th>\n",
       "      <td>11486</td>\n",
       "      <td>Pour booster les ventes, Dassault offre un por...</td>\n",
       "      <td>NaN</td>\n",
       "      <td>NaN</td>\n",
       "      <td>1</td>\n",
       "    </tr>\n",
       "    <tr>\n",
       "      <th>12056</th>\n",
       "      <td>12056</td>\n",
       "      <td>Après le succès de « Mariés au premier regard ...</td>\n",
       "      <td>NaN</td>\n",
       "      <td>NaN</td>\n",
       "      <td>1</td>\n",
       "    </tr>\n",
       "    <tr>\n",
       "      <th>12460</th>\n",
       "      <td>12460</td>\n",
       "      <td>La voyante lisait l’avenir dans les cartes ble...</td>\n",
       "      <td>NaN</td>\n",
       "      <td>NaN</td>\n",
       "      <td>1</td>\n",
       "    </tr>\n",
       "    <tr>\n",
       "      <th>12835</th>\n",
       "      <td>12835</td>\n",
       "      <td>[Vidéo] Découvrez le Gorafi de l’Année 2017 &gt;&gt;...</td>\n",
       "      <td>NaN</td>\n",
       "      <td>NaN</td>\n",
       "      <td>1</td>\n",
       "    </tr>\n",
       "    <tr>\n",
       "      <th>13020</th>\n",
       "      <td>13020</td>\n",
       "      <td>Horoscope du 21 novembre 2016 &gt;&gt; Le Gorafi</td>\n",
       "      <td>NaN</td>\n",
       "      <td>NaN</td>\n",
       "      <td>1</td>\n",
       "    </tr>\n",
       "    <tr>\n",
       "      <th>13107</th>\n",
       "      <td>13107</td>\n",
       "      <td>Les gardes-frontières se mettent en alerte pou...</td>\n",
       "      <td>NaN</td>\n",
       "      <td>NaN</td>\n",
       "      <td>1</td>\n",
       "    </tr>\n",
       "    <tr>\n",
       "      <th>13915</th>\n",
       "      <td>13915</td>\n",
       "      <td>Elle met en fuite un braqueur en lui jetant de...</td>\n",
       "      <td>NaN</td>\n",
       "      <td>NaN</td>\n",
       "      <td>1</td>\n",
       "    </tr>\n",
       "    <tr>\n",
       "      <th>14499</th>\n",
       "      <td>14499</td>\n",
       "      <td>Primaire – François Fillon se désiste au profi...</td>\n",
       "      <td>NaN</td>\n",
       "      <td>NaN</td>\n",
       "      <td>1</td>\n",
       "    </tr>\n",
       "    <tr>\n",
       "      <th>14933</th>\n",
       "      <td>14933</td>\n",
       "      <td>La sortie du dernier livre inédit du Gorafi éc...</td>\n",
       "      <td>NaN</td>\n",
       "      <td>NaN</td>\n",
       "      <td>1</td>\n",
       "    </tr>\n",
       "    <tr>\n",
       "      <th>16126</th>\n",
       "      <td>16126</td>\n",
       "      <td>Vendée Globe – Un skipper fait demi-tour après...</td>\n",
       "      <td>NaN</td>\n",
       "      <td>NaN</td>\n",
       "      <td>1</td>\n",
       "    </tr>\n",
       "    <tr>\n",
       "      <th>18479</th>\n",
       "      <td>18479</td>\n",
       "      <td>Il se fait cryogéniser dans l’espoir de voir u...</td>\n",
       "      <td>NaN</td>\n",
       "      <td>NaN</td>\n",
       "      <td>1</td>\n",
       "    </tr>\n",
       "    <tr>\n",
       "      <th>18757</th>\n",
       "      <td>18757</td>\n",
       "      <td>Donald Trump en 5 dates &gt;&gt; Le Gorafi</td>\n",
       "      <td>NaN</td>\n",
       "      <td>NaN</td>\n",
       "      <td>1</td>\n",
       "    </tr>\n",
       "    <tr>\n",
       "      <th>19157</th>\n",
       "      <td>19157</td>\n",
       "      <td>110% des Américains assurent qu’ils continuero...</td>\n",
       "      <td>NaN</td>\n",
       "      <td>NaN</td>\n",
       "      <td>1</td>\n",
       "    </tr>\n",
       "    <tr>\n",
       "      <th>19227</th>\n",
       "      <td>19227</td>\n",
       "      <td>Des millions d’Américains recherchent massivem...</td>\n",
       "      <td>NaN</td>\n",
       "      <td>NaN</td>\n",
       "      <td>1</td>\n",
       "    </tr>\n",
       "    <tr>\n",
       "      <th>19388</th>\n",
       "      <td>19388</td>\n",
       "      <td>Heureux et souriant, il a la chance de toujour...</td>\n",
       "      <td>NaN</td>\n",
       "      <td>NaN</td>\n",
       "      <td>1</td>\n",
       "    </tr>\n",
       "  </tbody>\n",
       "</table>\n",
       "</div>"
      ],
      "text/plain": [
       "          id                                              title author text   \n",
       "142      142  Gorafi Magazine : Entretien exclusif avec Bara...    NaN  NaN  \\\n",
       "573      573  Le top des recherches Google passe en top des ...    NaN  NaN   \n",
       "1200    1200  La Corée du Nord annonce avoir envoyé un missi...    NaN  NaN   \n",
       "1911    1911  Grand-Prix du Brésil – Romain Grosjean obtient...    NaN  NaN   \n",
       "2148    2148  Gorafi Magazine: Barack Obama « Je vous ai déj...    NaN  NaN   \n",
       "2169    2169  #NDDL: Pour fêter l’autorisation des travaux, ...    NaN  NaN   \n",
       "2793    2793  «Pourquoi je suis candidat à la présidentielle...    NaN  NaN   \n",
       "3329    3329  GuinessBook : 100 millions d’Américains batten...    NaN  NaN   \n",
       "3729    3729  Les Américains ne sont plus qu’à quelques heur...    NaN  NaN   \n",
       "4288    4288            Hillary Clinton en 5 dates >> Le Gorafi    NaN  NaN   \n",
       "4358    4358  Ne supportant plus l’ambiance de la campagne é...    NaN  NaN   \n",
       "5717    5717  SPA : Enfermé depuis trois jours dans une cage...    NaN  NaN   \n",
       "6215    6215  New-York – Le lâcher de confettis prévu à Time...    NaN  NaN   \n",
       "6680    6680  Débat Primaire de la Droite : les Français pas...    NaN  NaN   \n",
       "8649    8649  Donald Trump s’excuse pour toutes les minorité...    NaN  NaN   \n",
       "8908    8908  “Notre batal a coulé” par l’homme qui fait des...    NaN  NaN   \n",
       "8922    8922  La Trump Tower cambriolée – les voleurs seraie...    NaN  NaN   \n",
       "9350    9350  La Russie a profité de l’élection américaine p...    NaN  NaN   \n",
       "9446    9446  Trop essoufflé après avoir cherché ses affaire...    NaN  NaN   \n",
       "9454    9454  Il saoule tout le monde avec son analyse polit...    NaN  NaN   \n",
       "9524    9524  Elections US : les premières estimations donne...    NaN  NaN   \n",
       "10466  10466  Sur Twitter, Donald Trump se félicite d’avoir ...    NaN  NaN   \n",
       "10867  10867    Live Soirée présidentielle US 2016 >> Le Gorafi    NaN  NaN   \n",
       "11450  11450  Vladimir Poutine est élu 45e Président des Eta...    NaN  NaN   \n",
       "11486  11486  Pour booster les ventes, Dassault offre un por...    NaN  NaN   \n",
       "12056  12056  Après le succès de « Mariés au premier regard ...    NaN  NaN   \n",
       "12460  12460  La voyante lisait l’avenir dans les cartes ble...    NaN  NaN   \n",
       "12835  12835  [Vidéo] Découvrez le Gorafi de l’Année 2017 >>...    NaN  NaN   \n",
       "13020  13020         Horoscope du 21 novembre 2016 >> Le Gorafi    NaN  NaN   \n",
       "13107  13107  Les gardes-frontières se mettent en alerte pou...    NaN  NaN   \n",
       "13915  13915  Elle met en fuite un braqueur en lui jetant de...    NaN  NaN   \n",
       "14499  14499  Primaire – François Fillon se désiste au profi...    NaN  NaN   \n",
       "14933  14933  La sortie du dernier livre inédit du Gorafi éc...    NaN  NaN   \n",
       "16126  16126  Vendée Globe – Un skipper fait demi-tour après...    NaN  NaN   \n",
       "18479  18479  Il se fait cryogéniser dans l’espoir de voir u...    NaN  NaN   \n",
       "18757  18757               Donald Trump en 5 dates >> Le Gorafi    NaN  NaN   \n",
       "19157  19157  110% des Américains assurent qu’ils continuero...    NaN  NaN   \n",
       "19227  19227  Des millions d’Américains recherchent massivem...    NaN  NaN   \n",
       "19388  19388  Heureux et souriant, il a la chance de toujour...    NaN  NaN   \n",
       "\n",
       "       label  \n",
       "142        1  \n",
       "573        1  \n",
       "1200       1  \n",
       "1911       1  \n",
       "2148       1  \n",
       "2169       1  \n",
       "2793       1  \n",
       "3329       1  \n",
       "3729       1  \n",
       "4288       1  \n",
       "4358       1  \n",
       "5717       1  \n",
       "6215       1  \n",
       "6680       1  \n",
       "8649       1  \n",
       "8908       1  \n",
       "8922       1  \n",
       "9350       1  \n",
       "9446       1  \n",
       "9454       1  \n",
       "9524       1  \n",
       "10466      1  \n",
       "10867      1  \n",
       "11450      1  \n",
       "11486      1  \n",
       "12056      1  \n",
       "12460      1  \n",
       "12835      1  \n",
       "13020      1  \n",
       "13107      1  \n",
       "13915      1  \n",
       "14499      1  \n",
       "14933      1  \n",
       "16126      1  \n",
       "18479      1  \n",
       "18757      1  \n",
       "19157      1  \n",
       "19227      1  \n",
       "19388      1  "
      ]
     },
     "execution_count": 9,
     "metadata": {},
     "output_type": "execute_result"
    }
   ],
   "source": [
    "train[train['text'].isna()]"
   ]
  },
  {
   "cell_type": "markdown",
   "id": "7b73b8a0",
   "metadata": {},
   "source": [
    "# Data Preprocessing"
   ]
  },
  {
   "cell_type": "markdown",
   "id": "4d1b3d59",
   "metadata": {},
   "source": [
    "- ## handling null values"
   ]
  },
  {
   "cell_type": "markdown",
   "id": "abe43280",
   "metadata": {},
   "source": [
    "There are Missing values where author name is not available, to make this meaningful let us fill the missing values with \"unavailable\" and this would be concistent for authorless titles"
   ]
  },
  {
   "cell_type": "code",
   "execution_count": 10,
   "id": "b396171f",
   "metadata": {},
   "outputs": [],
   "source": [
    "train.fillna('unavailable',inplace=True)"
   ]
  },
  {
   "cell_type": "code",
   "execution_count": 11,
   "id": "c995fb1c",
   "metadata": {},
   "outputs": [
    {
     "data": {
      "text/html": [
       "<div>\n",
       "<style scoped>\n",
       "    .dataframe tbody tr th:only-of-type {\n",
       "        vertical-align: middle;\n",
       "    }\n",
       "\n",
       "    .dataframe tbody tr th {\n",
       "        vertical-align: top;\n",
       "    }\n",
       "\n",
       "    .dataframe thead th {\n",
       "        text-align: right;\n",
       "    }\n",
       "</style>\n",
       "<table border=\"1\" class=\"dataframe\">\n",
       "  <thead>\n",
       "    <tr style=\"text-align: right;\">\n",
       "      <th></th>\n",
       "      <th>id</th>\n",
       "      <th>title</th>\n",
       "      <th>author</th>\n",
       "      <th>text</th>\n",
       "      <th>label</th>\n",
       "    </tr>\n",
       "  </thead>\n",
       "  <tbody>\n",
       "    <tr>\n",
       "      <th>142</th>\n",
       "      <td>142</td>\n",
       "      <td>Gorafi Magazine : Entretien exclusif avec Bara...</td>\n",
       "      <td>unavailable</td>\n",
       "      <td>unavailable</td>\n",
       "      <td>1</td>\n",
       "    </tr>\n",
       "    <tr>\n",
       "      <th>573</th>\n",
       "      <td>573</td>\n",
       "      <td>Le top des recherches Google passe en top des ...</td>\n",
       "      <td>unavailable</td>\n",
       "      <td>unavailable</td>\n",
       "      <td>1</td>\n",
       "    </tr>\n",
       "    <tr>\n",
       "      <th>1200</th>\n",
       "      <td>1200</td>\n",
       "      <td>La Corée du Nord annonce avoir envoyé un missi...</td>\n",
       "      <td>unavailable</td>\n",
       "      <td>unavailable</td>\n",
       "      <td>1</td>\n",
       "    </tr>\n",
       "    <tr>\n",
       "      <th>1911</th>\n",
       "      <td>1911</td>\n",
       "      <td>Grand-Prix du Brésil – Romain Grosjean obtient...</td>\n",
       "      <td>unavailable</td>\n",
       "      <td>unavailable</td>\n",
       "      <td>1</td>\n",
       "    </tr>\n",
       "    <tr>\n",
       "      <th>2148</th>\n",
       "      <td>2148</td>\n",
       "      <td>Gorafi Magazine: Barack Obama « Je vous ai déj...</td>\n",
       "      <td>unavailable</td>\n",
       "      <td>unavailable</td>\n",
       "      <td>1</td>\n",
       "    </tr>\n",
       "    <tr>\n",
       "      <th>2169</th>\n",
       "      <td>2169</td>\n",
       "      <td>#NDDL: Pour fêter l’autorisation des travaux, ...</td>\n",
       "      <td>unavailable</td>\n",
       "      <td>unavailable</td>\n",
       "      <td>1</td>\n",
       "    </tr>\n",
       "    <tr>\n",
       "      <th>2793</th>\n",
       "      <td>2793</td>\n",
       "      <td>«Pourquoi je suis candidat à la présidentielle...</td>\n",
       "      <td>unavailable</td>\n",
       "      <td>unavailable</td>\n",
       "      <td>1</td>\n",
       "    </tr>\n",
       "    <tr>\n",
       "      <th>3329</th>\n",
       "      <td>3329</td>\n",
       "      <td>GuinessBook : 100 millions d’Américains batten...</td>\n",
       "      <td>unavailable</td>\n",
       "      <td>unavailable</td>\n",
       "      <td>1</td>\n",
       "    </tr>\n",
       "    <tr>\n",
       "      <th>3729</th>\n",
       "      <td>3729</td>\n",
       "      <td>Les Américains ne sont plus qu’à quelques heur...</td>\n",
       "      <td>unavailable</td>\n",
       "      <td>unavailable</td>\n",
       "      <td>1</td>\n",
       "    </tr>\n",
       "    <tr>\n",
       "      <th>4288</th>\n",
       "      <td>4288</td>\n",
       "      <td>Hillary Clinton en 5 dates &gt;&gt; Le Gorafi</td>\n",
       "      <td>unavailable</td>\n",
       "      <td>unavailable</td>\n",
       "      <td>1</td>\n",
       "    </tr>\n",
       "    <tr>\n",
       "      <th>4358</th>\n",
       "      <td>4358</td>\n",
       "      <td>Ne supportant plus l’ambiance de la campagne é...</td>\n",
       "      <td>unavailable</td>\n",
       "      <td>unavailable</td>\n",
       "      <td>1</td>\n",
       "    </tr>\n",
       "    <tr>\n",
       "      <th>5717</th>\n",
       "      <td>5717</td>\n",
       "      <td>SPA : Enfermé depuis trois jours dans une cage...</td>\n",
       "      <td>unavailable</td>\n",
       "      <td>unavailable</td>\n",
       "      <td>1</td>\n",
       "    </tr>\n",
       "    <tr>\n",
       "      <th>6215</th>\n",
       "      <td>6215</td>\n",
       "      <td>New-York – Le lâcher de confettis prévu à Time...</td>\n",
       "      <td>unavailable</td>\n",
       "      <td>unavailable</td>\n",
       "      <td>1</td>\n",
       "    </tr>\n",
       "    <tr>\n",
       "      <th>6680</th>\n",
       "      <td>6680</td>\n",
       "      <td>Débat Primaire de la Droite : les Français pas...</td>\n",
       "      <td>unavailable</td>\n",
       "      <td>unavailable</td>\n",
       "      <td>1</td>\n",
       "    </tr>\n",
       "    <tr>\n",
       "      <th>8649</th>\n",
       "      <td>8649</td>\n",
       "      <td>Donald Trump s’excuse pour toutes les minorité...</td>\n",
       "      <td>unavailable</td>\n",
       "      <td>unavailable</td>\n",
       "      <td>1</td>\n",
       "    </tr>\n",
       "    <tr>\n",
       "      <th>8908</th>\n",
       "      <td>8908</td>\n",
       "      <td>“Notre batal a coulé” par l’homme qui fait des...</td>\n",
       "      <td>unavailable</td>\n",
       "      <td>unavailable</td>\n",
       "      <td>1</td>\n",
       "    </tr>\n",
       "    <tr>\n",
       "      <th>8922</th>\n",
       "      <td>8922</td>\n",
       "      <td>La Trump Tower cambriolée – les voleurs seraie...</td>\n",
       "      <td>unavailable</td>\n",
       "      <td>unavailable</td>\n",
       "      <td>1</td>\n",
       "    </tr>\n",
       "    <tr>\n",
       "      <th>9350</th>\n",
       "      <td>9350</td>\n",
       "      <td>La Russie a profité de l’élection américaine p...</td>\n",
       "      <td>unavailable</td>\n",
       "      <td>unavailable</td>\n",
       "      <td>1</td>\n",
       "    </tr>\n",
       "    <tr>\n",
       "      <th>9446</th>\n",
       "      <td>9446</td>\n",
       "      <td>Trop essoufflé après avoir cherché ses affaire...</td>\n",
       "      <td>unavailable</td>\n",
       "      <td>unavailable</td>\n",
       "      <td>1</td>\n",
       "    </tr>\n",
       "    <tr>\n",
       "      <th>9454</th>\n",
       "      <td>9454</td>\n",
       "      <td>Il saoule tout le monde avec son analyse polit...</td>\n",
       "      <td>unavailable</td>\n",
       "      <td>unavailable</td>\n",
       "      <td>1</td>\n",
       "    </tr>\n",
       "    <tr>\n",
       "      <th>9524</th>\n",
       "      <td>9524</td>\n",
       "      <td>Elections US : les premières estimations donne...</td>\n",
       "      <td>unavailable</td>\n",
       "      <td>unavailable</td>\n",
       "      <td>1</td>\n",
       "    </tr>\n",
       "    <tr>\n",
       "      <th>10466</th>\n",
       "      <td>10466</td>\n",
       "      <td>Sur Twitter, Donald Trump se félicite d’avoir ...</td>\n",
       "      <td>unavailable</td>\n",
       "      <td>unavailable</td>\n",
       "      <td>1</td>\n",
       "    </tr>\n",
       "    <tr>\n",
       "      <th>10867</th>\n",
       "      <td>10867</td>\n",
       "      <td>Live Soirée présidentielle US 2016 &gt;&gt; Le Gorafi</td>\n",
       "      <td>unavailable</td>\n",
       "      <td>unavailable</td>\n",
       "      <td>1</td>\n",
       "    </tr>\n",
       "    <tr>\n",
       "      <th>11450</th>\n",
       "      <td>11450</td>\n",
       "      <td>Vladimir Poutine est élu 45e Président des Eta...</td>\n",
       "      <td>unavailable</td>\n",
       "      <td>unavailable</td>\n",
       "      <td>1</td>\n",
       "    </tr>\n",
       "    <tr>\n",
       "      <th>11486</th>\n",
       "      <td>11486</td>\n",
       "      <td>Pour booster les ventes, Dassault offre un por...</td>\n",
       "      <td>unavailable</td>\n",
       "      <td>unavailable</td>\n",
       "      <td>1</td>\n",
       "    </tr>\n",
       "    <tr>\n",
       "      <th>12056</th>\n",
       "      <td>12056</td>\n",
       "      <td>Après le succès de « Mariés au premier regard ...</td>\n",
       "      <td>unavailable</td>\n",
       "      <td>unavailable</td>\n",
       "      <td>1</td>\n",
       "    </tr>\n",
       "    <tr>\n",
       "      <th>12460</th>\n",
       "      <td>12460</td>\n",
       "      <td>La voyante lisait l’avenir dans les cartes ble...</td>\n",
       "      <td>unavailable</td>\n",
       "      <td>unavailable</td>\n",
       "      <td>1</td>\n",
       "    </tr>\n",
       "    <tr>\n",
       "      <th>12835</th>\n",
       "      <td>12835</td>\n",
       "      <td>[Vidéo] Découvrez le Gorafi de l’Année 2017 &gt;&gt;...</td>\n",
       "      <td>unavailable</td>\n",
       "      <td>unavailable</td>\n",
       "      <td>1</td>\n",
       "    </tr>\n",
       "    <tr>\n",
       "      <th>13020</th>\n",
       "      <td>13020</td>\n",
       "      <td>Horoscope du 21 novembre 2016 &gt;&gt; Le Gorafi</td>\n",
       "      <td>unavailable</td>\n",
       "      <td>unavailable</td>\n",
       "      <td>1</td>\n",
       "    </tr>\n",
       "    <tr>\n",
       "      <th>13107</th>\n",
       "      <td>13107</td>\n",
       "      <td>Les gardes-frontières se mettent en alerte pou...</td>\n",
       "      <td>unavailable</td>\n",
       "      <td>unavailable</td>\n",
       "      <td>1</td>\n",
       "    </tr>\n",
       "    <tr>\n",
       "      <th>13915</th>\n",
       "      <td>13915</td>\n",
       "      <td>Elle met en fuite un braqueur en lui jetant de...</td>\n",
       "      <td>unavailable</td>\n",
       "      <td>unavailable</td>\n",
       "      <td>1</td>\n",
       "    </tr>\n",
       "    <tr>\n",
       "      <th>14499</th>\n",
       "      <td>14499</td>\n",
       "      <td>Primaire – François Fillon se désiste au profi...</td>\n",
       "      <td>unavailable</td>\n",
       "      <td>unavailable</td>\n",
       "      <td>1</td>\n",
       "    </tr>\n",
       "    <tr>\n",
       "      <th>14933</th>\n",
       "      <td>14933</td>\n",
       "      <td>La sortie du dernier livre inédit du Gorafi éc...</td>\n",
       "      <td>unavailable</td>\n",
       "      <td>unavailable</td>\n",
       "      <td>1</td>\n",
       "    </tr>\n",
       "    <tr>\n",
       "      <th>16126</th>\n",
       "      <td>16126</td>\n",
       "      <td>Vendée Globe – Un skipper fait demi-tour après...</td>\n",
       "      <td>unavailable</td>\n",
       "      <td>unavailable</td>\n",
       "      <td>1</td>\n",
       "    </tr>\n",
       "    <tr>\n",
       "      <th>18479</th>\n",
       "      <td>18479</td>\n",
       "      <td>Il se fait cryogéniser dans l’espoir de voir u...</td>\n",
       "      <td>unavailable</td>\n",
       "      <td>unavailable</td>\n",
       "      <td>1</td>\n",
       "    </tr>\n",
       "    <tr>\n",
       "      <th>18757</th>\n",
       "      <td>18757</td>\n",
       "      <td>Donald Trump en 5 dates &gt;&gt; Le Gorafi</td>\n",
       "      <td>unavailable</td>\n",
       "      <td>unavailable</td>\n",
       "      <td>1</td>\n",
       "    </tr>\n",
       "    <tr>\n",
       "      <th>19157</th>\n",
       "      <td>19157</td>\n",
       "      <td>110% des Américains assurent qu’ils continuero...</td>\n",
       "      <td>unavailable</td>\n",
       "      <td>unavailable</td>\n",
       "      <td>1</td>\n",
       "    </tr>\n",
       "    <tr>\n",
       "      <th>19227</th>\n",
       "      <td>19227</td>\n",
       "      <td>Des millions d’Américains recherchent massivem...</td>\n",
       "      <td>unavailable</td>\n",
       "      <td>unavailable</td>\n",
       "      <td>1</td>\n",
       "    </tr>\n",
       "    <tr>\n",
       "      <th>19388</th>\n",
       "      <td>19388</td>\n",
       "      <td>Heureux et souriant, il a la chance de toujour...</td>\n",
       "      <td>unavailable</td>\n",
       "      <td>unavailable</td>\n",
       "      <td>1</td>\n",
       "    </tr>\n",
       "  </tbody>\n",
       "</table>\n",
       "</div>"
      ],
      "text/plain": [
       "          id                                              title       author   \n",
       "142      142  Gorafi Magazine : Entretien exclusif avec Bara...  unavailable  \\\n",
       "573      573  Le top des recherches Google passe en top des ...  unavailable   \n",
       "1200    1200  La Corée du Nord annonce avoir envoyé un missi...  unavailable   \n",
       "1911    1911  Grand-Prix du Brésil – Romain Grosjean obtient...  unavailable   \n",
       "2148    2148  Gorafi Magazine: Barack Obama « Je vous ai déj...  unavailable   \n",
       "2169    2169  #NDDL: Pour fêter l’autorisation des travaux, ...  unavailable   \n",
       "2793    2793  «Pourquoi je suis candidat à la présidentielle...  unavailable   \n",
       "3329    3329  GuinessBook : 100 millions d’Américains batten...  unavailable   \n",
       "3729    3729  Les Américains ne sont plus qu’à quelques heur...  unavailable   \n",
       "4288    4288            Hillary Clinton en 5 dates >> Le Gorafi  unavailable   \n",
       "4358    4358  Ne supportant plus l’ambiance de la campagne é...  unavailable   \n",
       "5717    5717  SPA : Enfermé depuis trois jours dans une cage...  unavailable   \n",
       "6215    6215  New-York – Le lâcher de confettis prévu à Time...  unavailable   \n",
       "6680    6680  Débat Primaire de la Droite : les Français pas...  unavailable   \n",
       "8649    8649  Donald Trump s’excuse pour toutes les minorité...  unavailable   \n",
       "8908    8908  “Notre batal a coulé” par l’homme qui fait des...  unavailable   \n",
       "8922    8922  La Trump Tower cambriolée – les voleurs seraie...  unavailable   \n",
       "9350    9350  La Russie a profité de l’élection américaine p...  unavailable   \n",
       "9446    9446  Trop essoufflé après avoir cherché ses affaire...  unavailable   \n",
       "9454    9454  Il saoule tout le monde avec son analyse polit...  unavailable   \n",
       "9524    9524  Elections US : les premières estimations donne...  unavailable   \n",
       "10466  10466  Sur Twitter, Donald Trump se félicite d’avoir ...  unavailable   \n",
       "10867  10867    Live Soirée présidentielle US 2016 >> Le Gorafi  unavailable   \n",
       "11450  11450  Vladimir Poutine est élu 45e Président des Eta...  unavailable   \n",
       "11486  11486  Pour booster les ventes, Dassault offre un por...  unavailable   \n",
       "12056  12056  Après le succès de « Mariés au premier regard ...  unavailable   \n",
       "12460  12460  La voyante lisait l’avenir dans les cartes ble...  unavailable   \n",
       "12835  12835  [Vidéo] Découvrez le Gorafi de l’Année 2017 >>...  unavailable   \n",
       "13020  13020         Horoscope du 21 novembre 2016 >> Le Gorafi  unavailable   \n",
       "13107  13107  Les gardes-frontières se mettent en alerte pou...  unavailable   \n",
       "13915  13915  Elle met en fuite un braqueur en lui jetant de...  unavailable   \n",
       "14499  14499  Primaire – François Fillon se désiste au profi...  unavailable   \n",
       "14933  14933  La sortie du dernier livre inédit du Gorafi éc...  unavailable   \n",
       "16126  16126  Vendée Globe – Un skipper fait demi-tour après...  unavailable   \n",
       "18479  18479  Il se fait cryogéniser dans l’espoir de voir u...  unavailable   \n",
       "18757  18757               Donald Trump en 5 dates >> Le Gorafi  unavailable   \n",
       "19157  19157  110% des Américains assurent qu’ils continuero...  unavailable   \n",
       "19227  19227  Des millions d’Américains recherchent massivem...  unavailable   \n",
       "19388  19388  Heureux et souriant, il a la chance de toujour...  unavailable   \n",
       "\n",
       "              text  label  \n",
       "142    unavailable      1  \n",
       "573    unavailable      1  \n",
       "1200   unavailable      1  \n",
       "1911   unavailable      1  \n",
       "2148   unavailable      1  \n",
       "2169   unavailable      1  \n",
       "2793   unavailable      1  \n",
       "3329   unavailable      1  \n",
       "3729   unavailable      1  \n",
       "4288   unavailable      1  \n",
       "4358   unavailable      1  \n",
       "5717   unavailable      1  \n",
       "6215   unavailable      1  \n",
       "6680   unavailable      1  \n",
       "8649   unavailable      1  \n",
       "8908   unavailable      1  \n",
       "8922   unavailable      1  \n",
       "9350   unavailable      1  \n",
       "9446   unavailable      1  \n",
       "9454   unavailable      1  \n",
       "9524   unavailable      1  \n",
       "10466  unavailable      1  \n",
       "10867  unavailable      1  \n",
       "11450  unavailable      1  \n",
       "11486  unavailable      1  \n",
       "12056  unavailable      1  \n",
       "12460  unavailable      1  \n",
       "12835  unavailable      1  \n",
       "13020  unavailable      1  \n",
       "13107  unavailable      1  \n",
       "13915  unavailable      1  \n",
       "14499  unavailable      1  \n",
       "14933  unavailable      1  \n",
       "16126  unavailable      1  \n",
       "18479  unavailable      1  \n",
       "18757  unavailable      1  \n",
       "19157  unavailable      1  \n",
       "19227  unavailable      1  \n",
       "19388  unavailable      1  "
      ]
     },
     "execution_count": 11,
     "metadata": {},
     "output_type": "execute_result"
    }
   ],
   "source": [
    "train[train['text'] == \"unavailable\"]"
   ]
  },
  {
   "cell_type": "markdown",
   "id": "90af840d",
   "metadata": {},
   "source": [
    "- ## Handelling Duplicates"
   ]
  },
  {
   "cell_type": "code",
   "execution_count": 12,
   "id": "a409e2ae",
   "metadata": {},
   "outputs": [
    {
     "data": {
      "text/plain": [
       "0"
      ]
     },
     "execution_count": 12,
     "metadata": {},
     "output_type": "execute_result"
    }
   ],
   "source": [
    "train.duplicated().sum()"
   ]
  },
  {
   "cell_type": "code",
   "execution_count": 13,
   "id": "1f03860a",
   "metadata": {},
   "outputs": [
    {
     "data": {
      "text/html": [
       "<div>\n",
       "<style scoped>\n",
       "    .dataframe tbody tr th:only-of-type {\n",
       "        vertical-align: middle;\n",
       "    }\n",
       "\n",
       "    .dataframe tbody tr th {\n",
       "        vertical-align: top;\n",
       "    }\n",
       "\n",
       "    .dataframe thead th {\n",
       "        text-align: right;\n",
       "    }\n",
       "</style>\n",
       "<table border=\"1\" class=\"dataframe\">\n",
       "  <thead>\n",
       "    <tr style=\"text-align: right;\">\n",
       "      <th></th>\n",
       "      <th>id</th>\n",
       "      <th>title</th>\n",
       "      <th>author</th>\n",
       "      <th>text</th>\n",
       "      <th>label</th>\n",
       "    </tr>\n",
       "  </thead>\n",
       "  <tbody>\n",
       "  </tbody>\n",
       "</table>\n",
       "</div>"
      ],
      "text/plain": [
       "Empty DataFrame\n",
       "Columns: [id, title, author, text, label]\n",
       "Index: []"
      ]
     },
     "execution_count": 13,
     "metadata": {},
     "output_type": "execute_result"
    }
   ],
   "source": [
    "train[train.duplicated()]"
   ]
  },
  {
   "cell_type": "code",
   "execution_count": 14,
   "id": "553d7925",
   "metadata": {},
   "outputs": [],
   "source": [
    "train = train.drop_duplicates(keep='first')"
   ]
  },
  {
   "cell_type": "markdown",
   "id": "3a70e3fc",
   "metadata": {},
   "source": [
    "---"
   ]
  },
  {
   "cell_type": "markdown",
   "id": "57ed58b4",
   "metadata": {},
   "source": [
    "# Visualizing\n",
    " - Better Understanding"
   ]
  },
  {
   "cell_type": "code",
   "execution_count": 15,
   "id": "264e4001",
   "metadata": {
    "scrolled": false
   },
   "outputs": [
    {
     "name": "stdout",
     "output_type": "stream",
     "text": [
      "Real News: 10387\n",
      "Fake News: 10413\n"
     ]
    },
    {
     "data": {
      "text/plain": [
       "<Axes: xlabel='label', ylabel='count'>"
      ]
     },
     "execution_count": 15,
     "metadata": {},
     "output_type": "execute_result"
    },
    {
     "data": {
      "image/png": "[encoded data removed]",
      "text/plain": [
       "<Figure size 640x480 with 1 Axes>"
      ]
     },
     "metadata": {},
     "output_type": "display_data"
    }
   ],
   "source": [
    "## Checking for total number of images in the dataset\n",
    "print(f\"Real News:\", train.value_counts(\"label\")[0])\n",
    "print(f\"Fake News:\", train.value_counts(\"label\")[1])\n",
    "\n",
    "## Plotting the numbers\n",
    "sns.set_theme(style=\"whitegrid\")\n",
    "sns.countplot(x = train[\"label\"])"
   ]
  },
  {
   "cell_type": "code",
   "execution_count": 16,
   "id": "60935fb5",
   "metadata": {},
   "outputs": [
    {
     "data": {
      "text/html": [
       "<div>\n",
       "<style scoped>\n",
       "    .dataframe tbody tr th:only-of-type {\n",
       "        vertical-align: middle;\n",
       "    }\n",
       "\n",
       "    .dataframe tbody tr th {\n",
       "        vertical-align: top;\n",
       "    }\n",
       "\n",
       "    .dataframe thead th {\n",
       "        text-align: right;\n",
       "    }\n",
       "</style>\n",
       "<table border=\"1\" class=\"dataframe\">\n",
       "  <thead>\n",
       "    <tr style=\"text-align: right;\">\n",
       "      <th></th>\n",
       "      <th>id</th>\n",
       "      <th>title</th>\n",
       "      <th>author</th>\n",
       "      <th>text</th>\n",
       "      <th>label</th>\n",
       "    </tr>\n",
       "  </thead>\n",
       "  <tbody>\n",
       "    <tr>\n",
       "      <th>5614</th>\n",
       "      <td>5614</td>\n",
       "      <td>Creepy Clown Gets Pistol-Whipped!</td>\n",
       "      <td># 1 NWO Hatr</td>\n",
       "      <td>The Daily Sheeple – by Ryan Bannister \\nA pran...</td>\n",
       "      <td>1</td>\n",
       "    </tr>\n",
       "    <tr>\n",
       "      <th>14096</th>\n",
       "      <td>14096</td>\n",
       "      <td>How To Tie A Real Hangman’s Noose Knot</td>\n",
       "      <td># 1 NWO Hatr</td>\n",
       "      <td>Posted on October 27, 2016 by # 1 NWO Hatr Pub...</td>\n",
       "      <td>1</td>\n",
       "    </tr>\n",
       "    <tr>\n",
       "      <th>15079</th>\n",
       "      <td>15079</td>\n",
       "      <td>NATO, US, &amp; UK Assemble Largest Troop Buildup ...</td>\n",
       "      <td># 1 NWO Hatr</td>\n",
       "      <td>Free Thought Project – by John Vibes \\nIn the ...</td>\n",
       "      <td>1</td>\n",
       "    </tr>\n",
       "    <tr>\n",
       "      <th>3474</th>\n",
       "      <td>3474</td>\n",
       "      <td>Police arrest 141 in crackdown on North Dakota...</td>\n",
       "      <td># 1 NWO Hatr</td>\n",
       "      <td>Reuters \\nPolice arrested 141 Native Americans...</td>\n",
       "      <td>1</td>\n",
       "    </tr>\n",
       "    <tr>\n",
       "      <th>940</th>\n",
       "      <td>940</td>\n",
       "      <td>Brother of Clinton’s Campaign Chair is an Acti...</td>\n",
       "      <td># 1 NWO Hatr</td>\n",
       "      <td>Free Thought Project – by Claire Bernish \\nTon...</td>\n",
       "      <td>1</td>\n",
       "    </tr>\n",
       "    <tr>\n",
       "      <th>9545</th>\n",
       "      <td>9545</td>\n",
       "      <td>Distracted by Election 2016, No-one Resisted t...</td>\n",
       "      <td># 1 NWO Hatr</td>\n",
       "      <td>Waking Times – by Nathaniel Mauka \\nCongress o...</td>\n",
       "      <td>1</td>\n",
       "    </tr>\n",
       "    <tr>\n",
       "      <th>3795</th>\n",
       "      <td>3795</td>\n",
       "      <td>Cop Crashes Car And Runs Away When More Cops A...</td>\n",
       "      <td># 1 NWO Hatr</td>\n",
       "      <td>The Daily Sheeple – by Ryan Banister \\nAn awar...</td>\n",
       "      <td>1</td>\n",
       "    </tr>\n",
       "    <tr>\n",
       "      <th>17617</th>\n",
       "      <td>17617</td>\n",
       "      <td>De Blasio administration finds a way to ruin f...</td>\n",
       "      <td># 1 NWO Hatr</td>\n",
       "      <td>New York Post – by Michael Gartland \\nThe de B...</td>\n",
       "      <td>1</td>\n",
       "    </tr>\n",
       "    <tr>\n",
       "      <th>14590</th>\n",
       "      <td>14590</td>\n",
       "      <td>Juror in Oregon militia trial dismissed for bi...</td>\n",
       "      <td># 1 NWO Hatr</td>\n",
       "      <td>Reuters \\nA juror in the trial of seven militi...</td>\n",
       "      <td>1</td>\n",
       "    </tr>\n",
       "    <tr>\n",
       "      <th>17175</th>\n",
       "      <td>17175</td>\n",
       "      <td>In hats and t-shirts, Trump fans rally in Jeru...</td>\n",
       "      <td># 1 NWO Hatr</td>\n",
       "      <td>Reuters \\nOn a rooftop overlooking the walls o...</td>\n",
       "      <td>1</td>\n",
       "    </tr>\n",
       "    <tr>\n",
       "      <th>6293</th>\n",
       "      <td>6293</td>\n",
       "      <td>No-Fly Zone Declared as Militarized Police Pre...</td>\n",
       "      <td># 1 NWO Hatr</td>\n",
       "      <td>Free Thought Project – by Jay Syrmopoulos \\nCa...</td>\n",
       "      <td>1</td>\n",
       "    </tr>\n",
       "    <tr>\n",
       "      <th>16702</th>\n",
       "      <td>16702</td>\n",
       "      <td>The Dark Agenda Behind Globalism And Open Borders</td>\n",
       "      <td># 1 NWO Hatr</td>\n",
       "      <td>Alt-Market – by Brandon Smith \\nWhen people un...</td>\n",
       "      <td>1</td>\n",
       "    </tr>\n",
       "    <tr>\n",
       "      <th>10954</th>\n",
       "      <td>10954</td>\n",
       "      <td>Fukushima – The Untouchable Eco-Apocalypse No ...</td>\n",
       "      <td># 1 NWO Hatr</td>\n",
       "      <td>Waking Times – by Alex Pietrowski \\nThe most i...</td>\n",
       "      <td>1</td>\n",
       "    </tr>\n",
       "    <tr>\n",
       "      <th>14585</th>\n",
       "      <td>14585</td>\n",
       "      <td>TOO FUNNY: White House Laughingly Responds to ...</td>\n",
       "      <td># 1 NWO Hatr</td>\n",
       "      <td>The Daily Sheeple – by Melissa Dykes \\nJosh Ea...</td>\n",
       "      <td>1</td>\n",
       "    </tr>\n",
       "    <tr>\n",
       "      <th>19026</th>\n",
       "      <td>19026</td>\n",
       "      <td>Pentagon halts effort to recover Guard enlistm...</td>\n",
       "      <td># 1 NWO Hatr</td>\n",
       "      <td>Reuters \\nU.S. Defense Secretary Ash Carter on...</td>\n",
       "      <td>1</td>\n",
       "    </tr>\n",
       "    <tr>\n",
       "      <th>12322</th>\n",
       "      <td>12322</td>\n",
       "      <td>Like a ‘Concentration Camp’ Police Mark DAPL P...</td>\n",
       "      <td># 1 NWO Hatr</td>\n",
       "      <td>Free Thought Project – by Claire Bernish \\nCan...</td>\n",
       "      <td>1</td>\n",
       "    </tr>\n",
       "    <tr>\n",
       "      <th>13508</th>\n",
       "      <td>13508</td>\n",
       "      <td>Police: Oklahoma Double Murder Suspect Has Hit...</td>\n",
       "      <td># 1 NWO Hatr</td>\n",
       "      <td>Yahoo News \\nA 38-year-old Oklahoma man who ha...</td>\n",
       "      <td>1</td>\n",
       "    </tr>\n",
       "    <tr>\n",
       "      <th>9208</th>\n",
       "      <td>9208</td>\n",
       "      <td>Russia unveils 'Satan 2' missile</td>\n",
       "      <td>-NO AUTHOR-</td>\n",
       "      <td>WARS AND RUMORS OF WARS Russia unveils 'Satan ...</td>\n",
       "      <td>1</td>\n",
       "    </tr>\n",
       "    <tr>\n",
       "      <th>15915</th>\n",
       "      <td>15915</td>\n",
       "      <td>NATO calls for more troops for face-off agains...</td>\n",
       "      <td>-NO AUTHOR-</td>\n",
       "      <td>WARS AND RUMORS OF WARS NATO calls for more tr...</td>\n",
       "      <td>1</td>\n",
       "    </tr>\n",
       "    <tr>\n",
       "      <th>1084</th>\n",
       "      <td>1084</td>\n",
       "      <td>'Grand slam!' Father-son film is smash hit for...</td>\n",
       "      <td>-NO AUTHOR-</td>\n",
       "      <td>Print Gappers team photo from “Every Boy Needs...</td>\n",
       "      <td>1</td>\n",
       "    </tr>\n",
       "  </tbody>\n",
       "</table>\n",
       "</div>"
      ],
      "text/plain": [
       "          id                                              title        author   \n",
       "5614    5614                  Creepy Clown Gets Pistol-Whipped!  # 1 NWO Hatr  \\\n",
       "14096  14096             How To Tie A Real Hangman’s Noose Knot  # 1 NWO Hatr   \n",
       "15079  15079  NATO, US, & UK Assemble Largest Troop Buildup ...  # 1 NWO Hatr   \n",
       "3474    3474  Police arrest 141 in crackdown on North Dakota...  # 1 NWO Hatr   \n",
       "940      940  Brother of Clinton’s Campaign Chair is an Acti...  # 1 NWO Hatr   \n",
       "9545    9545  Distracted by Election 2016, No-one Resisted t...  # 1 NWO Hatr   \n",
       "3795    3795  Cop Crashes Car And Runs Away When More Cops A...  # 1 NWO Hatr   \n",
       "17617  17617  De Blasio administration finds a way to ruin f...  # 1 NWO Hatr   \n",
       "14590  14590  Juror in Oregon militia trial dismissed for bi...  # 1 NWO Hatr   \n",
       "17175  17175  In hats and t-shirts, Trump fans rally in Jeru...  # 1 NWO Hatr   \n",
       "6293    6293  No-Fly Zone Declared as Militarized Police Pre...  # 1 NWO Hatr   \n",
       "16702  16702  The Dark Agenda Behind Globalism And Open Borders  # 1 NWO Hatr   \n",
       "10954  10954  Fukushima – The Untouchable Eco-Apocalypse No ...  # 1 NWO Hatr   \n",
       "14585  14585  TOO FUNNY: White House Laughingly Responds to ...  # 1 NWO Hatr   \n",
       "19026  19026  Pentagon halts effort to recover Guard enlistm...  # 1 NWO Hatr   \n",
       "12322  12322  Like a ‘Concentration Camp’ Police Mark DAPL P...  # 1 NWO Hatr   \n",
       "13508  13508  Police: Oklahoma Double Murder Suspect Has Hit...  # 1 NWO Hatr   \n",
       "9208    9208                   Russia unveils 'Satan 2' missile   -NO AUTHOR-   \n",
       "15915  15915  NATO calls for more troops for face-off agains...   -NO AUTHOR-   \n",
       "1084    1084  'Grand slam!' Father-son film is smash hit for...   -NO AUTHOR-   \n",
       "\n",
       "                                                    text  label  \n",
       "5614   The Daily Sheeple – by Ryan Bannister \\nA pran...      1  \n",
       "14096  Posted on October 27, 2016 by # 1 NWO Hatr Pub...      1  \n",
       "15079  Free Thought Project – by John Vibes \\nIn the ...      1  \n",
       "3474   Reuters \\nPolice arrested 141 Native Americans...      1  \n",
       "940    Free Thought Project – by Claire Bernish \\nTon...      1  \n",
       "9545   Waking Times – by Nathaniel Mauka \\nCongress o...      1  \n",
       "3795   The Daily Sheeple – by Ryan Banister \\nAn awar...      1  \n",
       "17617  New York Post – by Michael Gartland \\nThe de B...      1  \n",
       "14590  Reuters \\nA juror in the trial of seven militi...      1  \n",
       "17175  Reuters \\nOn a rooftop overlooking the walls o...      1  \n",
       "6293   Free Thought Project – by Jay Syrmopoulos \\nCa...      1  \n",
       "16702  Alt-Market – by Brandon Smith \\nWhen people un...      1  \n",
       "10954  Waking Times – by Alex Pietrowski \\nThe most i...      1  \n",
       "14585  The Daily Sheeple – by Melissa Dykes \\nJosh Ea...      1  \n",
       "19026  Reuters \\nU.S. Defense Secretary Ash Carter on...      1  \n",
       "12322  Free Thought Project – by Claire Bernish \\nCan...      1  \n",
       "13508  Yahoo News \\nA 38-year-old Oklahoma man who ha...      1  \n",
       "9208   WARS AND RUMORS OF WARS Russia unveils 'Satan ...      1  \n",
       "15915  WARS AND RUMORS OF WARS NATO calls for more tr...      1  \n",
       "1084   Print Gappers team photo from “Every Boy Needs...      1  "
      ]
     },
     "execution_count": 16,
     "metadata": {},
     "output_type": "execute_result"
    }
   ],
   "source": [
    "train.sort_values('author').head(20)"
   ]
  },
  {
   "cell_type": "markdown",
   "id": "422d63b9",
   "metadata": {},
   "source": [
    "- ### Handling -NO AUTHOR-\tValue in Data"
   ]
  },
  {
   "cell_type": "code",
   "execution_count": 17,
   "id": "01ab07a5",
   "metadata": {},
   "outputs": [
    {
     "data": {
      "text/plain": [
       "id                                                   603031\n",
       "title     2,700-year-old Hebrew mention of Jerusalem fou...\n",
       "author    -NO AUTHOR--NO AUTHOR--NO AUTHOR--NO AUTHOR--N...\n",
       "text      2,700-year-old Hebrew mention of Jerusalem fou...\n",
       "label                                                    54\n",
       "dtype: object"
      ]
     },
     "execution_count": 17,
     "metadata": {},
     "output_type": "execute_result"
    }
   ],
   "source": [
    "train[train['author'] == '-NO AUTHOR-'].sum()"
   ]
  },
  {
   "cell_type": "code",
   "execution_count": 18,
   "id": "213fab43",
   "metadata": {},
   "outputs": [
    {
     "data": {
      "text/plain": [
       "0                                    Darrell Lucus\n",
       "1                                  Daniel J. Flynn\n",
       "2                               Consortiumnews.com\n",
       "3                                  Jessica Purkiss\n",
       "4                                   Howard Portnoy\n",
       "                           ...                    \n",
       "20795                                Jerome Hudson\n",
       "20796                             Benjamin Hoffman\n",
       "20797    Michael J. de la Merced and Rachel Abrams\n",
       "20798                                  Alex Ansary\n",
       "20799                                David Swanson\n",
       "Name: author, Length: 20800, dtype: object"
      ]
     },
     "execution_count": 18,
     "metadata": {},
     "output_type": "execute_result"
    }
   ],
   "source": [
    "train['author'].replace('-NO AUTHOR-', 'anonymous')"
   ]
  },
  {
   "cell_type": "markdown",
   "id": "c8b19205",
   "metadata": {},
   "source": [
    "After considiration, it maybe best to train the model on a variaty of data (Author Names)"
   ]
  },
  {
   "cell_type": "code",
   "execution_count": 19,
   "id": "65a77664",
   "metadata": {},
   "outputs": [
    {
     "data": {
      "text/plain": [
       "(4202,)"
      ]
     },
     "execution_count": 19,
     "metadata": {},
     "output_type": "execute_result"
    }
   ],
   "source": [
    "train['author'].unique().shape"
   ]
  },
  {
   "cell_type": "markdown",
   "id": "797e93d8",
   "metadata": {},
   "source": [
    "- ### --- Done ----"
   ]
  },
  {
   "cell_type": "markdown",
   "id": "0be6328e",
   "metadata": {},
   "source": [
    "---"
   ]
  },
  {
   "cell_type": "markdown",
   "id": "931c2aca",
   "metadata": {},
   "source": [
    "# Preparing The DF"
   ]
  },
  {
   "cell_type": "code",
   "execution_count": 24,
   "id": "f6d9664c",
   "metadata": {
    "scrolled": false
   },
   "outputs": [],
   "source": [
    "train = train.drop(\"id\", axis=1)\n",
    "\n",
    "train = train.reset_index()"
   ]
  },
  {
   "cell_type": "code",
   "execution_count": 25,
   "id": "492e3e4f",
   "metadata": {},
   "outputs": [],
   "source": [
    "df = train"
   ]
  },
  {
   "cell_type": "code",
   "execution_count": 26,
   "id": "8677d50f",
   "metadata": {
    "scrolled": true
   },
   "outputs": [
    {
     "name": "stdout",
     "output_type": "stream",
     "text": [
      "<class 'pandas.core.frame.DataFrame'>\n",
      "RangeIndex: 20800 entries, 0 to 20799\n",
      "Data columns (total 5 columns):\n",
      " #   Column  Non-Null Count  Dtype \n",
      "---  ------  --------------  ----- \n",
      " 0   index   20800 non-null  int64 \n",
      " 1   title   20800 non-null  object\n",
      " 2   author  20800 non-null  object\n",
      " 3   text    20800 non-null  object\n",
      " 4   label   20800 non-null  int64 \n",
      "dtypes: int64(2), object(3)\n",
      "memory usage: 812.6+ KB\n"
     ]
    }
   ],
   "source": [
    "df.info()"
   ]
  },
  {
   "cell_type": "code",
   "execution_count": 27,
   "id": "e862420b",
   "metadata": {},
   "outputs": [
    {
     "data": {
      "text/plain": [
       "index     0\n",
       "title     0\n",
       "author    0\n",
       "text      0\n",
       "label     0\n",
       "dtype: int64"
      ]
     },
     "execution_count": 27,
     "metadata": {},
     "output_type": "execute_result"
    }
   ],
   "source": [
    "df.isna().sum()"
   ]
  },
  {
   "cell_type": "code",
   "execution_count": 28,
   "id": "d819586c",
   "metadata": {},
   "outputs": [],
   "source": [
    "df['comb']=df['author']+\"_\"+df['title']#+df['text']      # Combined all the features "
   ]
  },
  {
   "cell_type": "markdown",
   "id": "dd4c6016",
   "metadata": {},
   "source": [
    "---"
   ]
  },
  {
   "cell_type": "markdown",
   "id": "aa130e84",
   "metadata": {},
   "source": [
    "# Steaming"
   ]
  },
  {
   "cell_type": "code",
   "execution_count": 29,
   "id": "d70d0428",
   "metadata": {},
   "outputs": [
    {
     "data": {
      "text/plain": [
       "'!\"#$%&\\'()*+,-./:;<=>?@[\\\\]^_`{|}~'"
      ]
     },
     "execution_count": 29,
     "metadata": {},
     "output_type": "execute_result"
    }
   ],
   "source": [
    "string.punctuation"
   ]
  },
  {
   "cell_type": "code",
   "execution_count": 30,
   "id": "b807f360",
   "metadata": {
    "scrolled": true
   },
   "outputs": [
    {
     "name": "stdout",
     "output_type": "stream",
     "text": [
      "['i', 'me', 'my', 'myself', 'we', 'our', 'ours', 'ourselves', 'you', \"you're\", \"you've\", \"you'll\", \"you'd\", 'your', 'yours', 'yourself', 'yourselves', 'he', 'him', 'his', 'himself', 'she', \"she's\", 'her', 'hers', 'herself', 'it', \"it's\", 'its', 'itself', 'they', 'them', 'their', 'theirs', 'themselves', 'what', 'which', 'who', 'whom', 'this', 'that', \"that'll\", 'these', 'those', 'am', 'is', 'are', 'was', 'were', 'be', 'been', 'being', 'have', 'has', 'had', 'having', 'do', 'does', 'did', 'doing', 'a', 'an', 'the', 'and', 'but', 'if', 'or', 'because', 'as', 'until', 'while', 'of', 'at', 'by', 'for', 'with', 'about', 'against', 'between', 'into', 'through', 'during', 'before', 'after', 'above', 'below', 'to', 'from', 'up', 'down', 'in', 'out', 'on', 'off', 'over', 'under', 'again', 'further', 'then', 'once', 'here', 'there', 'when', 'where', 'why', 'how', 'all', 'any', 'both', 'each', 'few', 'more', 'most', 'other', 'some', 'such', 'no', 'nor', 'not', 'only', 'own', 'same', 'so', 'than', 'too', 'very', 's', 't', 'can', 'will', 'just', 'don', \"don't\", 'should', \"should've\", 'now', 'd', 'll', 'm', 'o', 're', 've', 'y', 'ain', 'aren', \"aren't\", 'couldn', \"couldn't\", 'didn', \"didn't\", 'doesn', \"doesn't\", 'hadn', \"hadn't\", 'hasn', \"hasn't\", 'haven', \"haven't\", 'isn', \"isn't\", 'ma', 'mightn', \"mightn't\", 'mustn', \"mustn't\", 'needn', \"needn't\", 'shan', \"shan't\", 'shouldn', \"shouldn't\", 'wasn', \"wasn't\", 'weren', \"weren't\", 'won', \"won't\", 'wouldn', \"wouldn't\"]\n"
     ]
    }
   ],
   "source": [
    "print(stopwords.words(\"english\"))"
   ]
  },
  {
   "cell_type": "code",
   "execution_count": 31,
   "id": "adf27630",
   "metadata": {},
   "outputs": [],
   "source": [
    "port_stem = PorterStemmer()"
   ]
  },
  {
   "cell_type": "code",
   "execution_count": 32,
   "id": "4d3468d9",
   "metadata": {},
   "outputs": [],
   "source": [
    "wordnet=WordNetLemmatizer()\n",
    "stemmer=PorterStemmer()\n",
    "def clean(text):\n",
    "    # text=\"\".join([char for char in text if char not in string.punctuation])\n",
    "    text=\"\".join([re.sub('[^a-zA-Z]',' ',char) for char in text ])\n",
    "    text=text.lower()\n",
    "    text=text.split()\n",
    "    text=[stemmer.stem(word) for word in text if word not in set(stopwords.words(\"english\"))]\n",
    "    text=\" \".join(text)\n",
    "    return text"
   ]
  },
  {
   "cell_type": "code",
   "execution_count": 33,
   "id": "ad309d6d",
   "metadata": {},
   "outputs": [],
   "source": [
    "df['comb']=df['comb'].apply(clean)"
   ]
  },
  {
   "cell_type": "code",
   "execution_count": 212,
   "id": "356d50d0",
   "metadata": {},
   "outputs": [
    {
     "data": {
      "text/plain": [
       "index                                                     4\n",
       "title     Iranian woman jailed for fictional unpublished...\n",
       "author                                       Howard Portnoy\n",
       "text      Print \\nAn Iranian woman has been sentenced to...\n",
       "label                                                     1\n",
       "comb      howard portnoy iranian woman jail fiction unpu...\n",
       "Name: 4, dtype: object"
      ]
     },
     "execution_count": 212,
     "metadata": {},
     "output_type": "execute_result"
    }
   ],
   "source": [
    "df.iloc[4]"
   ]
  },
  {
   "cell_type": "code",
   "execution_count": 35,
   "id": "907e6443",
   "metadata": {},
   "outputs": [
    {
     "data": {
      "text/html": [
       "<div>\n",
       "<style scoped>\n",
       "    .dataframe tbody tr th:only-of-type {\n",
       "        vertical-align: middle;\n",
       "    }\n",
       "\n",
       "    .dataframe tbody tr th {\n",
       "        vertical-align: top;\n",
       "    }\n",
       "\n",
       "    .dataframe thead th {\n",
       "        text-align: right;\n",
       "    }\n",
       "</style>\n",
       "<table border=\"1\" class=\"dataframe\">\n",
       "  <thead>\n",
       "    <tr style=\"text-align: right;\">\n",
       "      <th></th>\n",
       "      <th>index</th>\n",
       "      <th>title</th>\n",
       "      <th>author</th>\n",
       "      <th>text</th>\n",
       "      <th>label</th>\n",
       "      <th>comb</th>\n",
       "    </tr>\n",
       "  </thead>\n",
       "  <tbody>\n",
       "    <tr>\n",
       "      <th>0</th>\n",
       "      <td>0</td>\n",
       "      <td>House Dem Aide: We Didn’t Even See Comey’s Let...</td>\n",
       "      <td>Darrell Lucus</td>\n",
       "      <td>House Dem Aide: We Didn’t Even See Comey’s Let...</td>\n",
       "      <td>1</td>\n",
       "      <td>darrel lucu hous dem aid even see comey letter...</td>\n",
       "    </tr>\n",
       "    <tr>\n",
       "      <th>1</th>\n",
       "      <td>1</td>\n",
       "      <td>FLYNN: Hillary Clinton, Big Woman on Campus - ...</td>\n",
       "      <td>Daniel J. Flynn</td>\n",
       "      <td>Ever get the feeling your life circles the rou...</td>\n",
       "      <td>0</td>\n",
       "      <td>daniel j flynn flynn hillari clinton big woman...</td>\n",
       "    </tr>\n",
       "    <tr>\n",
       "      <th>2</th>\n",
       "      <td>2</td>\n",
       "      <td>Why the Truth Might Get You Fired</td>\n",
       "      <td>Consortiumnews.com</td>\n",
       "      <td>Why the Truth Might Get You Fired October 29, ...</td>\n",
       "      <td>1</td>\n",
       "      <td>consortiumnew com truth might get fire</td>\n",
       "    </tr>\n",
       "    <tr>\n",
       "      <th>3</th>\n",
       "      <td>3</td>\n",
       "      <td>15 Civilians Killed In Single US Airstrike Hav...</td>\n",
       "      <td>Jessica Purkiss</td>\n",
       "      <td>Videos 15 Civilians Killed In Single US Airstr...</td>\n",
       "      <td>1</td>\n",
       "      <td>jessica purkiss civilian kill singl us airstri...</td>\n",
       "    </tr>\n",
       "    <tr>\n",
       "      <th>4</th>\n",
       "      <td>4</td>\n",
       "      <td>Iranian woman jailed for fictional unpublished...</td>\n",
       "      <td>Howard Portnoy</td>\n",
       "      <td>Print \\nAn Iranian woman has been sentenced to...</td>\n",
       "      <td>1</td>\n",
       "      <td>howard portnoy iranian woman jail fiction unpu...</td>\n",
       "    </tr>\n",
       "  </tbody>\n",
       "</table>\n",
       "</div>"
      ],
      "text/plain": [
       "   index                                              title   \n",
       "0      0  House Dem Aide: We Didn’t Even See Comey’s Let...  \\\n",
       "1      1  FLYNN: Hillary Clinton, Big Woman on Campus - ...   \n",
       "2      2                  Why the Truth Might Get You Fired   \n",
       "3      3  15 Civilians Killed In Single US Airstrike Hav...   \n",
       "4      4  Iranian woman jailed for fictional unpublished...   \n",
       "\n",
       "               author                                               text   \n",
       "0       Darrell Lucus  House Dem Aide: We Didn’t Even See Comey’s Let...  \\\n",
       "1     Daniel J. Flynn  Ever get the feeling your life circles the rou...   \n",
       "2  Consortiumnews.com  Why the Truth Might Get You Fired October 29, ...   \n",
       "3     Jessica Purkiss  Videos 15 Civilians Killed In Single US Airstr...   \n",
       "4      Howard Portnoy  Print \\nAn Iranian woman has been sentenced to...   \n",
       "\n",
       "   label                                               comb  \n",
       "0      1  darrel lucu hous dem aid even see comey letter...  \n",
       "1      0  daniel j flynn flynn hillari clinton big woman...  \n",
       "2      1             consortiumnew com truth might get fire  \n",
       "3      1  jessica purkiss civilian kill singl us airstri...  \n",
       "4      1  howard portnoy iranian woman jail fiction unpu...  "
      ]
     },
     "execution_count": 35,
     "metadata": {},
     "output_type": "execute_result"
    }
   ],
   "source": [
    "df.head()"
   ]
  },
  {
   "cell_type": "markdown",
   "id": "06c45bb3",
   "metadata": {},
   "source": [
    "---"
   ]
  },
  {
   "cell_type": "markdown",
   "id": "ace1774b",
   "metadata": {},
   "source": [
    "# Converting the textual data to numerical data"
   ]
  },
  {
   "cell_type": "code",
   "execution_count": 202,
   "id": "0a4dd485",
   "metadata": {},
   "outputs": [],
   "source": [
    "transformer = TfidfTransformer(smooth_idf=False)\n",
    "\n",
    "count_vectorizer = CountVectorizer(ngram_range=(1, 2))\n",
    "\n",
    "counts = count_vectorizer.fit_transform(df['comb'].values)\n",
    "\n",
    "tfidf = transformer.fit_transform(counts)\n",
    "X = tfidf"
   ]
  },
  {
   "cell_type": "markdown",
   "id": "1430f315",
   "metadata": {},
   "source": [
    "---"
   ]
  },
  {
   "cell_type": "markdown",
   "id": "0e64edd7",
   "metadata": {},
   "source": [
    "# Split Data Into Train & Test"
   ]
  },
  {
   "cell_type": "code",
   "execution_count": 37,
   "id": "adce7cc9",
   "metadata": {},
   "outputs": [
    {
     "data": {
      "text/plain": [
       "array([1, 0, 1, ..., 0, 1, 1])"
      ]
     },
     "execution_count": 37,
     "metadata": {},
     "output_type": "execute_result"
    }
   ],
   "source": [
    "df['label'].values"
   ]
  },
  {
   "cell_type": "code",
   "execution_count": 38,
   "id": "20f852b0",
   "metadata": {},
   "outputs": [],
   "source": [
    "targets = df['label'].values"
   ]
  },
  {
   "cell_type": "code",
   "execution_count": 39,
   "id": "fd15509d",
   "metadata": {},
   "outputs": [
    {
     "name": "stdout",
     "output_type": "stream",
     "text": [
      "target shape: (20800,)\n",
      "X shape: (20800, 138515)\n"
     ]
    }
   ],
   "source": [
    "print(f\"target shape: {targets.shape}\")\n",
    "print(f\"X shape: {tfidf.shape}\")"
   ]
  },
  {
   "cell_type": "code",
   "execution_count": 139,
   "id": "5bf14bc2",
   "metadata": {},
   "outputs": [],
   "source": [
    "X_train, X_test, y_train, y_test = train_test_split(tfidf, targets, test_size=0.2, random_state=49)"
   ]
  },
  {
   "cell_type": "code",
   "execution_count": 41,
   "id": "6a14bbfe",
   "metadata": {},
   "outputs": [
    {
     "name": "stdout",
     "output_type": "stream",
     "text": [
      "The shape of X_train is: 16640\n",
      "The shape of X_test is: 4160\n"
     ]
    }
   ],
   "source": [
    "print(f\"The shape of X_train is: {X_train.shape[0]}\")\n",
    "print(f\"The shape of X_test is: {X_test.shape[0]}\")"
   ]
  },
  {
   "cell_type": "code",
   "execution_count": 42,
   "id": "657920be",
   "metadata": {},
   "outputs": [],
   "source": [
    "def train(model , model_name):\n",
    "    model.fit(X_train,y_train)\n",
    "    print(f\"Training accuracy of {model_name} is {model.score(X_train,y_train)}\")\n",
    "    print(f\"testing accuracy of {model_name} is {model.score(X_test,y_test)}\")\n",
    "def conf_matrix(model):\n",
    "    ConfusionMatrixDisplay.from_estimator(\n",
    "        model,\n",
    "        X_test,\n",
    "        y_test,\n",
    "        cmap=\"gist_heat\",\n",
    "    )\n",
    "def class_report(model):\n",
    "    print(classification_report(\n",
    "        y_test,\n",
    "        model.predict(X_test)\n",
    "    ))"
   ]
  },
  {
   "cell_type": "markdown",
   "id": "f2d69cd0",
   "metadata": {},
   "source": [
    "# Algorithms"
   ]
  },
  {
   "cell_type": "markdown",
   "id": "4c9798eb",
   "metadata": {},
   "source": [
    "## LogisticRegression"
   ]
  },
  {
   "cell_type": "code",
   "execution_count": 43,
   "id": "bb139a4d",
   "metadata": {},
   "outputs": [],
   "source": [
    "model_lr = LogisticRegression()"
   ]
  },
  {
   "cell_type": "code",
   "execution_count": 44,
   "id": "8cf8b2a1",
   "metadata": {},
   "outputs": [
    {
     "name": "stdout",
     "output_type": "stream",
     "text": [
      "Training accuracy of LogisticRegression is 0.9926081730769231\n",
      "testing accuracy of LogisticRegression is 0.9795673076923077\n"
     ]
    }
   ],
   "source": [
    "train(model_lr, 'LogisticRegression')"
   ]
  },
  {
   "cell_type": "code",
   "execution_count": 45,
   "id": "6b8f8ae8",
   "metadata": {},
   "outputs": [
    {
     "data": {
      "image/png": "[encoded data removed]",
      "text/plain": [
       "<Figure size 640x480 with 2 Axes>"
      ]
     },
     "metadata": {},
     "output_type": "display_data"
    }
   ],
   "source": [
    "conf_matrix(model_lr)"
   ]
  },
  {
   "cell_type": "code",
   "execution_count": 46,
   "id": "461aa8db",
   "metadata": {},
   "outputs": [
    {
     "name": "stdout",
     "output_type": "stream",
     "text": [
      "              precision    recall  f1-score   support\n",
      "\n",
      "           0       1.00      0.96      0.98      2062\n",
      "           1       0.96      1.00      0.98      2098\n",
      "\n",
      "    accuracy                           0.98      4160\n",
      "   macro avg       0.98      0.98      0.98      4160\n",
      "weighted avg       0.98      0.98      0.98      4160\n",
      "\n"
     ]
    }
   ],
   "source": [
    "class_report(model_lr)"
   ]
  },
  {
   "cell_type": "markdown",
   "id": "9c022be2",
   "metadata": {},
   "source": [
    "## svm"
   ]
  },
  {
   "cell_type": "code",
   "execution_count": 47,
   "id": "59f76cd8",
   "metadata": {},
   "outputs": [],
   "source": [
    "svc_model= SVC()"
   ]
  },
  {
   "cell_type": "code",
   "execution_count": 48,
   "id": "dabde580",
   "metadata": {},
   "outputs": [
    {
     "name": "stdout",
     "output_type": "stream",
     "text": [
      "Training accuracy of SVM is 0.9996394230769231\n",
      "testing accuracy of SVM is 0.9896634615384615\n"
     ]
    }
   ],
   "source": [
    "train(svc_model, 'SVM')"
   ]
  },
  {
   "cell_type": "code",
   "execution_count": 49,
   "id": "60738f65",
   "metadata": {},
   "outputs": [
    {
     "data": {
      "image/png": "[encoded data removed]",
      "text/plain": [
       "<Figure size 640x480 with 2 Axes>"
      ]
     },
     "metadata": {},
     "output_type": "display_data"
    }
   ],
   "source": [
    "conf_matrix(svc_model)"
   ]
  },
  {
   "cell_type": "code",
   "execution_count": 50,
   "id": "3fa11b77",
   "metadata": {},
   "outputs": [
    {
     "name": "stdout",
     "output_type": "stream",
     "text": [
      "              precision    recall  f1-score   support\n",
      "\n",
      "           0       1.00      0.98      0.99      2062\n",
      "           1       0.98      1.00      0.99      2098\n",
      "\n",
      "    accuracy                           0.99      4160\n",
      "   macro avg       0.99      0.99      0.99      4160\n",
      "weighted avg       0.99      0.99      0.99      4160\n",
      "\n"
     ]
    }
   ],
   "source": [
    "class_report(svc_model)"
   ]
  },
  {
   "cell_type": "markdown",
   "id": "2402a604",
   "metadata": {},
   "source": [
    "## DecisionTreeClassifier"
   ]
  },
  {
   "cell_type": "code",
   "execution_count": 51,
   "id": "75c0da40",
   "metadata": {},
   "outputs": [],
   "source": [
    "depth_num= range(50, 71, 2)\n",
    "training_acc= []\n",
    "testing_acc = []\n",
    "for depth in depth_num:\n",
    "    tree_model = DecisionTreeClassifier(max_depth=depth,random_state=42)\n",
    "    tree_model.fit(X_train,y_train)\n",
    "    training_acc.append(tree_model.score(X_train,y_train))\n",
    "    testing_acc.append(tree_model.score(X_test,y_test))"
   ]
  },
  {
   "cell_type": "code",
   "execution_count": 52,
   "id": "dddf2f03",
   "metadata": {},
   "outputs": [
    {
     "name": "stdout",
     "output_type": "stream",
     "text": [
      "Training Accuracy Scores: [0.9961538461538462, 0.9965745192307692, 0.9969350961538461]\n",
      "testing Accuracy Scores: [0.9927884615384616, 0.9930288461538461, 0.9944711538461538]\n"
     ]
    }
   ],
   "source": [
    "print(\"Training Accuracy Scores:\", training_acc[:3])\n",
    "print(\"testing Accuracy Scores:\", testing_acc[:3])"
   ]
  },
  {
   "cell_type": "code",
   "execution_count": 53,
   "id": "ac0ac036",
   "metadata": {},
   "outputs": [
    {
     "data": {
      "image/png": "[encoded data removed]",
      "text/plain": [
       "<Figure size 640x480 with 1 Axes>"
      ]
     },
     "metadata": {},
     "output_type": "display_data"
    }
   ],
   "source": [
    "plt.plot(depth_num , training_acc , label= 'Training')\n",
    "plt.plot(depth_num , testing_acc , label= 'Testing')\n",
    "plt.xlabel('Max_Depth')\n",
    "plt.ylabel('Accuracy_score')\n",
    "plt.legend();"
   ]
  },
  {
   "cell_type": "code",
   "execution_count": 54,
   "id": "0889d32d",
   "metadata": {},
   "outputs": [
    {
     "name": "stdout",
     "output_type": "stream",
     "text": [
      "Training accuracy of DesicionTreeClassifier is 0.99765625\n",
      "testing accuracy of DesicionTreeClassifier is 0.9961538461538462\n"
     ]
    }
   ],
   "source": [
    "# final model\n",
    "tree_final_model=DecisionTreeClassifier(max_depth=58,random_state=42)\n",
    "tree_final_model.fit(X_train,y_train)\n",
    "tree_training_acc = tree_final_model.score(X_train,y_train)\n",
    "tree_testing_acc = tree_final_model.score(X_test,y_test)\n",
    "print(f\"Training accuracy of DesicionTreeClassifier is {tree_training_acc}\")\n",
    "print(f\"testing accuracy of DesicionTreeClassifier is {tree_testing_acc}\")"
   ]
  },
  {
   "cell_type": "code",
   "execution_count": 55,
   "id": "3bad36e8",
   "metadata": {},
   "outputs": [
    {
     "data": {
      "image/png": "[encoded data removed]",
      "text/plain": [
       "<Figure size 640x480 with 2 Axes>"
      ]
     },
     "metadata": {},
     "output_type": "display_data"
    }
   ],
   "source": [
    "conf_matrix(tree_final_model)"
   ]
  },
  {
   "cell_type": "code",
   "execution_count": 56,
   "id": "3b4d6d9b",
   "metadata": {},
   "outputs": [
    {
     "name": "stdout",
     "output_type": "stream",
     "text": [
      "              precision    recall  f1-score   support\n",
      "\n",
      "           0       1.00      1.00      1.00      2062\n",
      "           1       1.00      1.00      1.00      2098\n",
      "\n",
      "    accuracy                           1.00      4160\n",
      "   macro avg       1.00      1.00      1.00      4160\n",
      "weighted avg       1.00      1.00      1.00      4160\n",
      "\n"
     ]
    }
   ],
   "source": [
    "class_report(tree_final_model)"
   ]
  },
  {
   "cell_type": "markdown",
   "id": "102718d1",
   "metadata": {},
   "source": [
    "## RandomForestClassifier"
   ]
  },
  {
   "cell_type": "code",
   "execution_count": 57,
   "id": "de755835",
   "metadata": {},
   "outputs": [
    {
     "data": {
      "text/plain": [
       "{'n_estimators': range(50, 125, 25), 'max_depth': range(60, 81, 2)}"
      ]
     },
     "execution_count": 57,
     "metadata": {},
     "output_type": "execute_result"
    }
   ],
   "source": [
    "clf= RandomForestClassifier(random_state=42)\n",
    "params={\n",
    "    \"n_estimators\": range(50,125,25),\n",
    "    \"max_depth\": range(60,81,2)\n",
    "}\n",
    "params"
   ]
  },
  {
   "cell_type": "code",
   "execution_count": 58,
   "id": "76ee084e",
   "metadata": {},
   "outputs": [],
   "source": [
    "rfc_model = GridSearchCV(\n",
    "    clf,\n",
    "    param_grid= params,\n",
    "    cv= 5,\n",
    "    n_jobs= -1,\n",
    "    verbose=1\n",
    ")"
   ]
  },
  {
   "cell_type": "code",
   "execution_count": 59,
   "id": "d1b34062",
   "metadata": {},
   "outputs": [
    {
     "name": "stdout",
     "output_type": "stream",
     "text": [
      "Fitting 5 folds for each of 33 candidates, totalling 165 fits\n"
     ]
    },
    {
     "data": {
      "text/html": [
       "<style>#sk-container-id-1 {color: black;background-color: white;}#sk-container-id-1 pre{padding: 0;}#sk-container-id-1 div.sk-toggleable {background-color: white;}#sk-container-id-1 label.sk-toggleable__label {cursor: pointer;display: block;width: 100%;margin-bottom: 0;padding: 0.3em;box-sizing: border-box;text-align: center;}#sk-container-id-1 label.sk-toggleable__label-arrow:before {content: \"▸\";float: left;margin-right: 0.25em;color: #696969;}#sk-container-id-1 label.sk-toggleable__label-arrow:hover:before {color: black;}#sk-container-id-1 div.sk-estimator:hover label.sk-toggleable__label-arrow:before {color: black;}#sk-container-id-1 div.sk-toggleable__content {max-height: 0;max-width: 0;overflow: hidden;text-align: left;background-color: #f0f8ff;}#sk-container-id-1 div.sk-toggleable__content pre {margin: 0.2em;color: black;border-radius: 0.25em;background-color: #f0f8ff;}#sk-container-id-1 input.sk-toggleable__control:checked~div.sk-toggleable__content {max-height: 200px;max-width: 100%;overflow: auto;}#sk-container-id-1 input.sk-toggleable__control:checked~label.sk-toggleable__label-arrow:before {content: \"▾\";}#sk-container-id-1 div.sk-estimator input.sk-toggleable__control:checked~label.sk-toggleable__label {background-color: #d4ebff;}#sk-container-id-1 div.sk-label input.sk-toggleable__control:checked~label.sk-toggleable__label {background-color: #d4ebff;}#sk-container-id-1 input.sk-hidden--visually {border: 0;clip: rect(1px 1px 1px 1px);clip: rect(1px, 1px, 1px, 1px);height: 1px;margin: -1px;overflow: hidden;padding: 0;position: absolute;width: 1px;}#sk-container-id-1 div.sk-estimator {font-family: monospace;background-color: #f0f8ff;border: 1px dotted black;border-radius: 0.25em;box-sizing: border-box;margin-bottom: 0.5em;}#sk-container-id-1 div.sk-estimator:hover {background-color: #d4ebff;}#sk-container-id-1 div.sk-parallel-item::after {content: \"\";width: 100%;border-bottom: 1px solid gray;flex-grow: 1;}#sk-container-id-1 div.sk-label:hover label.sk-toggleable__label {background-color: #d4ebff;}#sk-container-id-1 div.sk-serial::before {content: \"\";position: absolute;border-left: 1px solid gray;box-sizing: border-box;top: 0;bottom: 0;left: 50%;z-index: 0;}#sk-container-id-1 div.sk-serial {display: flex;flex-direction: column;align-items: center;background-color: white;padding-right: 0.2em;padding-left: 0.2em;position: relative;}#sk-container-id-1 div.sk-item {position: relative;z-index: 1;}#sk-container-id-1 div.sk-parallel {display: flex;align-items: stretch;justify-content: center;background-color: white;position: relative;}#sk-container-id-1 div.sk-item::before, #sk-container-id-1 div.sk-parallel-item::before {content: \"\";position: absolute;border-left: 1px solid gray;box-sizing: border-box;top: 0;bottom: 0;left: 50%;z-index: -1;}#sk-container-id-1 div.sk-parallel-item {display: flex;flex-direction: column;z-index: 1;position: relative;background-color: white;}#sk-container-id-1 div.sk-parallel-item:first-child::after {align-self: flex-end;width: 50%;}#sk-container-id-1 div.sk-parallel-item:last-child::after {align-self: flex-start;width: 50%;}#sk-container-id-1 div.sk-parallel-item:only-child::after {width: 0;}#sk-container-id-1 div.sk-dashed-wrapped {border: 1px dashed gray;margin: 0 0.4em 0.5em 0.4em;box-sizing: border-box;padding-bottom: 0.4em;background-color: white;}#sk-container-id-1 div.sk-label label {font-family: monospace;font-weight: bold;display: inline-block;line-height: 1.2em;}#sk-container-id-1 div.sk-label-container {text-align: center;}#sk-container-id-1 div.sk-container {/* jupyter's `normalize.less` sets `[hidden] { display: none; }` but bootstrap.min.css set `[hidden] { display: none !important; }` so we also need the `!important` here to be able to override the default hidden behavior on the sphinx rendered scikit-learn.org. See: https://github.com/scikit-learn/scikit-learn/issues/21755 */display: inline-block !important;position: relative;}#sk-container-id-1 div.sk-text-repr-fallback {display: none;}</style><div id=\"sk-container-id-1\" class=\"sk-top-container\"><div class=\"sk-text-repr-fallback\"><pre>GridSearchCV(cv=5, estimator=RandomForestClassifier(random_state=42), n_jobs=-1,\n",
       "             param_grid={&#x27;max_depth&#x27;: range(60, 81, 2),\n",
       "                         &#x27;n_estimators&#x27;: range(50, 125, 25)},\n",
       "             verbose=1)</pre><b>In a Jupyter environment, please rerun this cell to show the HTML representation or trust the notebook. <br />On GitHub, the HTML representation is unable to render, please try loading this page with nbviewer.org.</b></div><div class=\"sk-container\" hidden><div class=\"sk-item sk-dashed-wrapped\"><div class=\"sk-label-container\"><div class=\"sk-label sk-toggleable\"><input class=\"sk-toggleable__control sk-hidden--visually\" id=\"sk-estimator-id-1\" type=\"checkbox\" ><label for=\"sk-estimator-id-1\" class=\"sk-toggleable__label sk-toggleable__label-arrow\">GridSearchCV</label><div class=\"sk-toggleable__content\"><pre>GridSearchCV(cv=5, estimator=RandomForestClassifier(random_state=42), n_jobs=-1,\n",
       "             param_grid={&#x27;max_depth&#x27;: range(60, 81, 2),\n",
       "                         &#x27;n_estimators&#x27;: range(50, 125, 25)},\n",
       "             verbose=1)</pre></div></div></div><div class=\"sk-parallel\"><div class=\"sk-parallel-item\"><div class=\"sk-item\"><div class=\"sk-label-container\"><div class=\"sk-label sk-toggleable\"><input class=\"sk-toggleable__control sk-hidden--visually\" id=\"sk-estimator-id-2\" type=\"checkbox\" ><label for=\"sk-estimator-id-2\" class=\"sk-toggleable__label sk-toggleable__label-arrow\">estimator: RandomForestClassifier</label><div class=\"sk-toggleable__content\"><pre>RandomForestClassifier(random_state=42)</pre></div></div></div><div class=\"sk-serial\"><div class=\"sk-item\"><div class=\"sk-estimator sk-toggleable\"><input class=\"sk-toggleable__control sk-hidden--visually\" id=\"sk-estimator-id-3\" type=\"checkbox\" ><label for=\"sk-estimator-id-3\" class=\"sk-toggleable__label sk-toggleable__label-arrow\">RandomForestClassifier</label><div class=\"sk-toggleable__content\"><pre>RandomForestClassifier(random_state=42)</pre></div></div></div></div></div></div></div></div></div></div>"
      ],
      "text/plain": [
       "GridSearchCV(cv=5, estimator=RandomForestClassifier(random_state=42), n_jobs=-1,\n",
       "             param_grid={'max_depth': range(60, 81, 2),\n",
       "                         'n_estimators': range(50, 125, 25)},\n",
       "             verbose=1)"
      ]
     },
     "execution_count": 59,
     "metadata": {},
     "output_type": "execute_result"
    }
   ],
   "source": [
    "rfc_model.fit(X_train,y_train)"
   ]
  },
  {
   "cell_type": "code",
   "execution_count": 60,
   "id": "a58f39b8",
   "metadata": {},
   "outputs": [
    {
     "data": {
      "text/html": [
       "<div>\n",
       "<style scoped>\n",
       "    .dataframe tbody tr th:only-of-type {\n",
       "        vertical-align: middle;\n",
       "    }\n",
       "\n",
       "    .dataframe tbody tr th {\n",
       "        vertical-align: top;\n",
       "    }\n",
       "\n",
       "    .dataframe thead th {\n",
       "        text-align: right;\n",
       "    }\n",
       "</style>\n",
       "<table border=\"1\" class=\"dataframe\">\n",
       "  <thead>\n",
       "    <tr style=\"text-align: right;\">\n",
       "      <th></th>\n",
       "      <th>mean_fit_time</th>\n",
       "      <th>std_fit_time</th>\n",
       "      <th>mean_score_time</th>\n",
       "      <th>std_score_time</th>\n",
       "      <th>param_max_depth</th>\n",
       "      <th>param_n_estimators</th>\n",
       "      <th>params</th>\n",
       "      <th>split0_test_score</th>\n",
       "      <th>split1_test_score</th>\n",
       "      <th>split2_test_score</th>\n",
       "      <th>split3_test_score</th>\n",
       "      <th>split4_test_score</th>\n",
       "      <th>mean_test_score</th>\n",
       "      <th>std_test_score</th>\n",
       "      <th>rank_test_score</th>\n",
       "    </tr>\n",
       "  </thead>\n",
       "  <tbody>\n",
       "    <tr>\n",
       "      <th>29</th>\n",
       "      <td>38.454951</td>\n",
       "      <td>1.048848</td>\n",
       "      <td>0.188284</td>\n",
       "      <td>0.019103</td>\n",
       "      <td>78</td>\n",
       "      <td>100</td>\n",
       "      <td>{'max_depth': 78, 'n_estimators': 100}</td>\n",
       "      <td>0.972356</td>\n",
       "      <td>0.980769</td>\n",
       "      <td>0.974459</td>\n",
       "      <td>0.970553</td>\n",
       "      <td>0.977163</td>\n",
       "      <td>0.975060</td>\n",
       "      <td>0.003606</td>\n",
       "      <td>1</td>\n",
       "    </tr>\n",
       "    <tr>\n",
       "      <th>32</th>\n",
       "      <td>26.770292</td>\n",
       "      <td>0.851939</td>\n",
       "      <td>0.099715</td>\n",
       "      <td>0.011758</td>\n",
       "      <td>80</td>\n",
       "      <td>100</td>\n",
       "      <td>{'max_depth': 80, 'n_estimators': 100}</td>\n",
       "      <td>0.972356</td>\n",
       "      <td>0.980168</td>\n",
       "      <td>0.972356</td>\n",
       "      <td>0.972356</td>\n",
       "      <td>0.977464</td>\n",
       "      <td>0.974940</td>\n",
       "      <td>0.003278</td>\n",
       "      <td>2</td>\n",
       "    </tr>\n",
       "    <tr>\n",
       "      <th>31</th>\n",
       "      <td>26.432731</td>\n",
       "      <td>1.210365</td>\n",
       "      <td>0.124123</td>\n",
       "      <td>0.014135</td>\n",
       "      <td>80</td>\n",
       "      <td>75</td>\n",
       "      <td>{'max_depth': 80, 'n_estimators': 75}</td>\n",
       "      <td>0.971154</td>\n",
       "      <td>0.982572</td>\n",
       "      <td>0.972055</td>\n",
       "      <td>0.968149</td>\n",
       "      <td>0.979267</td>\n",
       "      <td>0.974639</td>\n",
       "      <td>0.005391</td>\n",
       "      <td>3</td>\n",
       "    </tr>\n",
       "    <tr>\n",
       "      <th>26</th>\n",
       "      <td>38.892199</td>\n",
       "      <td>0.790692</td>\n",
       "      <td>0.192707</td>\n",
       "      <td>0.012773</td>\n",
       "      <td>76</td>\n",
       "      <td>100</td>\n",
       "      <td>{'max_depth': 76, 'n_estimators': 100}</td>\n",
       "      <td>0.972656</td>\n",
       "      <td>0.980469</td>\n",
       "      <td>0.972055</td>\n",
       "      <td>0.970553</td>\n",
       "      <td>0.975361</td>\n",
       "      <td>0.974219</td>\n",
       "      <td>0.003491</td>\n",
       "      <td>4</td>\n",
       "    </tr>\n",
       "    <tr>\n",
       "      <th>23</th>\n",
       "      <td>38.812118</td>\n",
       "      <td>0.813917</td>\n",
       "      <td>0.208069</td>\n",
       "      <td>0.031537</td>\n",
       "      <td>74</td>\n",
       "      <td>100</td>\n",
       "      <td>{'max_depth': 74, 'n_estimators': 100}</td>\n",
       "      <td>0.973558</td>\n",
       "      <td>0.980769</td>\n",
       "      <td>0.973257</td>\n",
       "      <td>0.967248</td>\n",
       "      <td>0.975962</td>\n",
       "      <td>0.974159</td>\n",
       "      <td>0.004379</td>\n",
       "      <td>5</td>\n",
       "    </tr>\n",
       "    <tr>\n",
       "      <th>28</th>\n",
       "      <td>28.589408</td>\n",
       "      <td>0.873063</td>\n",
       "      <td>0.146235</td>\n",
       "      <td>0.011915</td>\n",
       "      <td>78</td>\n",
       "      <td>75</td>\n",
       "      <td>{'max_depth': 78, 'n_estimators': 75}</td>\n",
       "      <td>0.970853</td>\n",
       "      <td>0.982873</td>\n",
       "      <td>0.970553</td>\n",
       "      <td>0.967849</td>\n",
       "      <td>0.977464</td>\n",
       "      <td>0.973918</td>\n",
       "      <td>0.005483</td>\n",
       "      <td>6</td>\n",
       "    </tr>\n",
       "    <tr>\n",
       "      <th>20</th>\n",
       "      <td>35.335026</td>\n",
       "      <td>0.412798</td>\n",
       "      <td>0.187986</td>\n",
       "      <td>0.018561</td>\n",
       "      <td>72</td>\n",
       "      <td>100</td>\n",
       "      <td>{'max_depth': 72, 'n_estimators': 100}</td>\n",
       "      <td>0.972055</td>\n",
       "      <td>0.981370</td>\n",
       "      <td>0.970553</td>\n",
       "      <td>0.967849</td>\n",
       "      <td>0.975060</td>\n",
       "      <td>0.973377</td>\n",
       "      <td>0.004626</td>\n",
       "      <td>7</td>\n",
       "    </tr>\n",
       "    <tr>\n",
       "      <th>22</th>\n",
       "      <td>28.107633</td>\n",
       "      <td>0.527689</td>\n",
       "      <td>0.154322</td>\n",
       "      <td>0.016727</td>\n",
       "      <td>74</td>\n",
       "      <td>75</td>\n",
       "      <td>{'max_depth': 74, 'n_estimators': 75}</td>\n",
       "      <td>0.970553</td>\n",
       "      <td>0.983474</td>\n",
       "      <td>0.969952</td>\n",
       "      <td>0.964243</td>\n",
       "      <td>0.978065</td>\n",
       "      <td>0.973257</td>\n",
       "      <td>0.006738</td>\n",
       "      <td>8</td>\n",
       "    </tr>\n",
       "    <tr>\n",
       "      <th>25</th>\n",
       "      <td>30.243642</td>\n",
       "      <td>0.810908</td>\n",
       "      <td>0.145703</td>\n",
       "      <td>0.008258</td>\n",
       "      <td>76</td>\n",
       "      <td>75</td>\n",
       "      <td>{'max_depth': 76, 'n_estimators': 75}</td>\n",
       "      <td>0.969952</td>\n",
       "      <td>0.982272</td>\n",
       "      <td>0.970853</td>\n",
       "      <td>0.965445</td>\n",
       "      <td>0.975962</td>\n",
       "      <td>0.972897</td>\n",
       "      <td>0.005756</td>\n",
       "      <td>9</td>\n",
       "    </tr>\n",
       "    <tr>\n",
       "      <th>17</th>\n",
       "      <td>34.326212</td>\n",
       "      <td>0.668279</td>\n",
       "      <td>0.177936</td>\n",
       "      <td>0.014363</td>\n",
       "      <td>70</td>\n",
       "      <td>100</td>\n",
       "      <td>{'max_depth': 70, 'n_estimators': 100}</td>\n",
       "      <td>0.969351</td>\n",
       "      <td>0.980469</td>\n",
       "      <td>0.971755</td>\n",
       "      <td>0.966947</td>\n",
       "      <td>0.974159</td>\n",
       "      <td>0.972536</td>\n",
       "      <td>0.004638</td>\n",
       "      <td>10</td>\n",
       "    </tr>\n",
       "  </tbody>\n",
       "</table>\n",
       "</div>"
      ],
      "text/plain": [
       "    mean_fit_time  std_fit_time  mean_score_time  std_score_time   \n",
       "29      38.454951      1.048848         0.188284        0.019103  \\\n",
       "32      26.770292      0.851939         0.099715        0.011758   \n",
       "31      26.432731      1.210365         0.124123        0.014135   \n",
       "26      38.892199      0.790692         0.192707        0.012773   \n",
       "23      38.812118      0.813917         0.208069        0.031537   \n",
       "28      28.589408      0.873063         0.146235        0.011915   \n",
       "20      35.335026      0.412798         0.187986        0.018561   \n",
       "22      28.107633      0.527689         0.154322        0.016727   \n",
       "25      30.243642      0.810908         0.145703        0.008258   \n",
       "17      34.326212      0.668279         0.177936        0.014363   \n",
       "\n",
       "   param_max_depth param_n_estimators                                  params   \n",
       "29              78                100  {'max_depth': 78, 'n_estimators': 100}  \\\n",
       "32              80                100  {'max_depth': 80, 'n_estimators': 100}   \n",
       "31              80                 75   {'max_depth': 80, 'n_estimators': 75}   \n",
       "26              76                100  {'max_depth': 76, 'n_estimators': 100}   \n",
       "23              74                100  {'max_depth': 74, 'n_estimators': 100}   \n",
       "28              78                 75   {'max_depth': 78, 'n_estimators': 75}   \n",
       "20              72                100  {'max_depth': 72, 'n_estimators': 100}   \n",
       "22              74                 75   {'max_depth': 74, 'n_estimators': 75}   \n",
       "25              76                 75   {'max_depth': 76, 'n_estimators': 75}   \n",
       "17              70                100  {'max_depth': 70, 'n_estimators': 100}   \n",
       "\n",
       "    split0_test_score  split1_test_score  split2_test_score   \n",
       "29           0.972356           0.980769           0.974459  \\\n",
       "32           0.972356           0.980168           0.972356   \n",
       "31           0.971154           0.982572           0.972055   \n",
       "26           0.972656           0.980469           0.972055   \n",
       "23           0.973558           0.980769           0.973257   \n",
       "28           0.970853           0.982873           0.970553   \n",
       "20           0.972055           0.981370           0.970553   \n",
       "22           0.970553           0.983474           0.969952   \n",
       "25           0.969952           0.982272           0.970853   \n",
       "17           0.969351           0.980469           0.971755   \n",
       "\n",
       "    split3_test_score  split4_test_score  mean_test_score  std_test_score   \n",
       "29           0.970553           0.977163         0.975060        0.003606  \\\n",
       "32           0.972356           0.977464         0.974940        0.003278   \n",
       "31           0.968149           0.979267         0.974639        0.005391   \n",
       "26           0.970553           0.975361         0.974219        0.003491   \n",
       "23           0.967248           0.975962         0.974159        0.004379   \n",
       "28           0.967849           0.977464         0.973918        0.005483   \n",
       "20           0.967849           0.975060         0.973377        0.004626   \n",
       "22           0.964243           0.978065         0.973257        0.006738   \n",
       "25           0.965445           0.975962         0.972897        0.005756   \n",
       "17           0.966947           0.974159         0.972536        0.004638   \n",
       "\n",
       "    rank_test_score  \n",
       "29                1  \n",
       "32                2  \n",
       "31                3  \n",
       "26                4  \n",
       "23                5  \n",
       "28                6  \n",
       "20                7  \n",
       "22                8  \n",
       "25                9  \n",
       "17               10  "
      ]
     },
     "execution_count": 60,
     "metadata": {},
     "output_type": "execute_result"
    }
   ],
   "source": [
    "cv_results= pd.DataFrame(rfc_model.cv_results_)\n",
    "cv_results.sort_values('rank_test_score').head(10)"
   ]
  },
  {
   "cell_type": "code",
   "execution_count": 61,
   "id": "541e42ee",
   "metadata": {},
   "outputs": [
    {
     "data": {
      "text/plain": [
       "{'max_depth': 78, 'n_estimators': 100}"
      ]
     },
     "execution_count": 61,
     "metadata": {},
     "output_type": "execute_result"
    }
   ],
   "source": [
    "rfc_model.best_params_"
   ]
  },
  {
   "cell_type": "code",
   "execution_count": 62,
   "id": "10d46b9f",
   "metadata": {},
   "outputs": [
    {
     "data": {
      "text/plain": [
       "array([1, 1, 0, ..., 1, 0, 1])"
      ]
     },
     "execution_count": 62,
     "metadata": {},
     "output_type": "execute_result"
    }
   ],
   "source": [
    "rfc_model.predict(X_test)"
   ]
  },
  {
   "cell_type": "code",
   "execution_count": 63,
   "id": "cfef2723",
   "metadata": {},
   "outputs": [
    {
     "name": "stdout",
     "output_type": "stream",
     "text": [
      "Training accuracy: 0.986\n",
      "test accuracy: 0.9738\n"
     ]
    }
   ],
   "source": [
    "acc_train = rfc_model.score(X_train , y_train)\n",
    "acc_test = rfc_model.score(X_test , y_test)\n",
    "\n",
    "print(f\"Training accuracy: {round(acc_train , 4)}\")\n",
    "print(f\"test accuracy: {round(acc_test , 4)}\")"
   ]
  },
  {
   "cell_type": "code",
   "execution_count": 64,
   "id": "40092965",
   "metadata": {},
   "outputs": [
    {
     "data": {
      "image/png": "[encoded data removed]",
      "text/plain": [
       "<Figure size 640x480 with 2 Axes>"
      ]
     },
     "metadata": {},
     "output_type": "display_data"
    }
   ],
   "source": [
    "conf_matrix(rfc_model)"
   ]
  },
  {
   "cell_type": "code",
   "execution_count": 65,
   "id": "fcaf16e8",
   "metadata": {
    "scrolled": true
   },
   "outputs": [
    {
     "name": "stdout",
     "output_type": "stream",
     "text": [
      "              precision    recall  f1-score   support\n",
      "\n",
      "           0       1.00      0.95      0.97      2062\n",
      "           1       0.95      1.00      0.97      2098\n",
      "\n",
      "    accuracy                           0.97      4160\n",
      "   macro avg       0.98      0.97      0.97      4160\n",
      "weighted avg       0.97      0.97      0.97      4160\n",
      "\n"
     ]
    }
   ],
   "source": [
    "class_report(rfc_model)"
   ]
  },
  {
   "cell_type": "markdown",
   "id": "1a21857a",
   "metadata": {},
   "source": [
    "## Naive Bayes"
   ]
  },
  {
   "cell_type": "code",
   "execution_count": null,
   "id": "b206bddb",
   "metadata": {},
   "outputs": [],
   "source": []
  },
  {
   "cell_type": "markdown",
   "id": "1c576356",
   "metadata": {},
   "source": [
    "## Compare Different Algorithms"
   ]
  },
  {
   "cell_type": "code",
   "execution_count": 66,
   "id": "9d78ea99",
   "metadata": {},
   "outputs": [
    {
     "data": {
      "text/html": [
       "<div>\n",
       "<style scoped>\n",
       "    .dataframe tbody tr th:only-of-type {\n",
       "        vertical-align: middle;\n",
       "    }\n",
       "\n",
       "    .dataframe tbody tr th {\n",
       "        vertical-align: top;\n",
       "    }\n",
       "\n",
       "    .dataframe thead th {\n",
       "        text-align: right;\n",
       "    }\n",
       "</style>\n",
       "<table border=\"1\" class=\"dataframe\">\n",
       "  <thead>\n",
       "    <tr style=\"text-align: right;\">\n",
       "      <th></th>\n",
       "      <th>Models</th>\n",
       "      <th>Score</th>\n",
       "    </tr>\n",
       "  </thead>\n",
       "  <tbody>\n",
       "    <tr>\n",
       "      <th>2</th>\n",
       "      <td>DecisionTreeClassifier</td>\n",
       "      <td>0.996154</td>\n",
       "    </tr>\n",
       "    <tr>\n",
       "      <th>1</th>\n",
       "      <td>SVM</td>\n",
       "      <td>0.989663</td>\n",
       "    </tr>\n",
       "    <tr>\n",
       "      <th>0</th>\n",
       "      <td>Logestic Regression</td>\n",
       "      <td>0.979567</td>\n",
       "    </tr>\n",
       "    <tr>\n",
       "      <th>3</th>\n",
       "      <td>RandomForestClassifier</td>\n",
       "      <td>0.973798</td>\n",
       "    </tr>\n",
       "  </tbody>\n",
       "</table>\n",
       "</div>"
      ],
      "text/plain": [
       "                   Models     Score\n",
       "2  DecisionTreeClassifier  0.996154\n",
       "1                     SVM  0.989663\n",
       "0     Logestic Regression  0.979567\n",
       "3  RandomForestClassifier  0.973798"
      ]
     },
     "execution_count": 66,
     "metadata": {},
     "output_type": "execute_result"
    }
   ],
   "source": [
    "models = pd.DataFrame({\n",
    "    \n",
    "    \"Models\": [\"Logestic Regression\" , \"SVM\", \"DecisionTreeClassifier\",\"RandomForestClassifier\"],\n",
    "    \"Score\":[model_lr.score(X_test,y_test) ,svc_model.score(X_test,y_test) ,tree_testing_acc,acc_test ]\n",
    "    \n",
    "})\n",
    "models.sort_values(by=\"Score\" , ascending=False)"
   ]
  },
  {
   "cell_type": "code",
   "execution_count": 67,
   "id": "b1aee48e",
   "metadata": {},
   "outputs": [
    {
     "data": {
      "image/png": "[encoded data removed]",
      "text/plain": [
       "<Figure size 1000x500 with 1 Axes>"
      ]
     },
     "metadata": {},
     "output_type": "display_data"
    }
   ],
   "source": [
    "sns.set_theme(style=\"whitegrid\", palette=\"pastel\")\n",
    "# sns.set_style('whitegrid')\n",
    "plt.figure(figsize=(10,5))\n",
    "sns.barplot(x=models['Models'],y=models['Score'])\n",
    "plt.xlabel(\"Models\")\n",
    "plt.ylabel(\"Score\")\n",
    "plt.title(\"Model Selection\")\n",
    "plt.show();"
   ]
  },
  {
   "cell_type": "markdown",
   "id": "ee07b443",
   "metadata": {},
   "source": [
    "---"
   ]
  },
  {
   "cell_type": "markdown",
   "id": "d22de77a",
   "metadata": {},
   "source": [
    "# Try Testing With New Data"
   ]
  },
  {
   "cell_type": "markdown",
   "id": "b7e88111",
   "metadata": {},
   "source": [
    " - ## Preparing Test Data"
   ]
  },
  {
   "cell_type": "code",
   "execution_count": 94,
   "id": "800d7cad",
   "metadata": {},
   "outputs": [],
   "source": [
    "test=pd.read_csv('fake-news/test.csv')"
   ]
  },
  {
   "cell_type": "code",
   "execution_count": 95,
   "id": "f09e3a75",
   "metadata": {},
   "outputs": [
    {
     "data": {
      "text/html": [
       "<div>\n",
       "<style scoped>\n",
       "    .dataframe tbody tr th:only-of-type {\n",
       "        vertical-align: middle;\n",
       "    }\n",
       "\n",
       "    .dataframe tbody tr th {\n",
       "        vertical-align: top;\n",
       "    }\n",
       "\n",
       "    .dataframe thead th {\n",
       "        text-align: right;\n",
       "    }\n",
       "</style>\n",
       "<table border=\"1\" class=\"dataframe\">\n",
       "  <thead>\n",
       "    <tr style=\"text-align: right;\">\n",
       "      <th></th>\n",
       "      <th>id</th>\n",
       "      <th>title</th>\n",
       "      <th>author</th>\n",
       "      <th>text</th>\n",
       "    </tr>\n",
       "  </thead>\n",
       "  <tbody>\n",
       "    <tr>\n",
       "      <th>0</th>\n",
       "      <td>20800</td>\n",
       "      <td>Specter of Trump Loosens Tongues, if Not Purse...</td>\n",
       "      <td>David Streitfeld</td>\n",
       "      <td>PALO ALTO, Calif.  —   After years of scorning...</td>\n",
       "    </tr>\n",
       "    <tr>\n",
       "      <th>1</th>\n",
       "      <td>20801</td>\n",
       "      <td>Russian warships ready to strike terrorists ne...</td>\n",
       "      <td>NaN</td>\n",
       "      <td>Russian warships ready to strike terrorists ne...</td>\n",
       "    </tr>\n",
       "    <tr>\n",
       "      <th>2</th>\n",
       "      <td>20802</td>\n",
       "      <td>#NoDAPL: Native American Leaders Vow to Stay A...</td>\n",
       "      <td>Common Dreams</td>\n",
       "      <td>Videos #NoDAPL: Native American Leaders Vow to...</td>\n",
       "    </tr>\n",
       "    <tr>\n",
       "      <th>3</th>\n",
       "      <td>20803</td>\n",
       "      <td>Tim Tebow Will Attempt Another Comeback, This ...</td>\n",
       "      <td>Daniel Victor</td>\n",
       "      <td>If at first you don’t succeed, try a different...</td>\n",
       "    </tr>\n",
       "    <tr>\n",
       "      <th>4</th>\n",
       "      <td>20804</td>\n",
       "      <td>Keiser Report: Meme Wars (E995)</td>\n",
       "      <td>Truth Broadcast Network</td>\n",
       "      <td>42 mins ago 1 Views 0 Comments 0 Likes 'For th...</td>\n",
       "    </tr>\n",
       "  </tbody>\n",
       "</table>\n",
       "</div>"
      ],
      "text/plain": [
       "      id                                              title   \n",
       "0  20800  Specter of Trump Loosens Tongues, if Not Purse...  \\\n",
       "1  20801  Russian warships ready to strike terrorists ne...   \n",
       "2  20802  #NoDAPL: Native American Leaders Vow to Stay A...   \n",
       "3  20803  Tim Tebow Will Attempt Another Comeback, This ...   \n",
       "4  20804                    Keiser Report: Meme Wars (E995)   \n",
       "\n",
       "                    author                                               text  \n",
       "0         David Streitfeld  PALO ALTO, Calif.  —   After years of scorning...  \n",
       "1                      NaN  Russian warships ready to strike terrorists ne...  \n",
       "2            Common Dreams  Videos #NoDAPL: Native American Leaders Vow to...  \n",
       "3            Daniel Victor  If at first you don’t succeed, try a different...  \n",
       "4  Truth Broadcast Network  42 mins ago 1 Views 0 Comments 0 Likes 'For th...  "
      ]
     },
     "execution_count": 95,
     "metadata": {},
     "output_type": "execute_result"
    }
   ],
   "source": [
    "test.head()"
   ]
  },
  {
   "cell_type": "code",
   "execution_count": 96,
   "id": "a7e8f3a3",
   "metadata": {
    "scrolled": true
   },
   "outputs": [
    {
     "data": {
      "text/plain": [
       "id          0\n",
       "title     122\n",
       "author    503\n",
       "text        7\n",
       "dtype: int64"
      ]
     },
     "execution_count": 96,
     "metadata": {},
     "output_type": "execute_result"
    }
   ],
   "source": [
    "test.isna().sum()"
   ]
  },
  {
   "cell_type": "code",
   "execution_count": 97,
   "id": "c3c0d5be",
   "metadata": {},
   "outputs": [],
   "source": [
    "test.fillna('unavailable',inplace=True)"
   ]
  },
  {
   "cell_type": "code",
   "execution_count": 98,
   "id": "efe07700",
   "metadata": {
    "scrolled": true
   },
   "outputs": [
    {
     "data": {
      "text/html": [
       "<div>\n",
       "<style scoped>\n",
       "    .dataframe tbody tr th:only-of-type {\n",
       "        vertical-align: middle;\n",
       "    }\n",
       "\n",
       "    .dataframe tbody tr th {\n",
       "        vertical-align: top;\n",
       "    }\n",
       "\n",
       "    .dataframe thead th {\n",
       "        text-align: right;\n",
       "    }\n",
       "</style>\n",
       "<table border=\"1\" class=\"dataframe\">\n",
       "  <thead>\n",
       "    <tr style=\"text-align: right;\">\n",
       "      <th></th>\n",
       "      <th>id</th>\n",
       "      <th>label</th>\n",
       "    </tr>\n",
       "  </thead>\n",
       "  <tbody>\n",
       "    <tr>\n",
       "      <th>0</th>\n",
       "      <td>20800</td>\n",
       "      <td>0</td>\n",
       "    </tr>\n",
       "    <tr>\n",
       "      <th>1</th>\n",
       "      <td>20801</td>\n",
       "      <td>1</td>\n",
       "    </tr>\n",
       "    <tr>\n",
       "      <th>2</th>\n",
       "      <td>20802</td>\n",
       "      <td>0</td>\n",
       "    </tr>\n",
       "    <tr>\n",
       "      <th>3</th>\n",
       "      <td>20803</td>\n",
       "      <td>1</td>\n",
       "    </tr>\n",
       "    <tr>\n",
       "      <th>4</th>\n",
       "      <td>20804</td>\n",
       "      <td>1</td>\n",
       "    </tr>\n",
       "  </tbody>\n",
       "</table>\n",
       "</div>"
      ],
      "text/plain": [
       "      id  label\n",
       "0  20800      0\n",
       "1  20801      1\n",
       "2  20802      0\n",
       "3  20803      1\n",
       "4  20804      1"
      ]
     },
     "execution_count": 98,
     "metadata": {},
     "output_type": "execute_result"
    }
   ],
   "source": [
    "df_target = pd.read_csv(\"fake-news/submit.csv\")\n",
    "df_target.head()"
   ]
  },
  {
   "cell_type": "code",
   "execution_count": 119,
   "id": "ceb2a1e8",
   "metadata": {},
   "outputs": [],
   "source": [
    "test['target'] = 0\n",
    "\n",
    "for i in range(len(df_target)):\n",
    "    test.loc[test['id'] == df_target['id'][i], 'target']= df_target['label'][i]"
   ]
  },
  {
   "cell_type": "code",
   "execution_count": 128,
   "id": "441ec807",
   "metadata": {},
   "outputs": [
    {
     "data": {
      "text/plain": [
       "index     0\n",
       "title     0\n",
       "author    0\n",
       "text      0\n",
       "target    0\n",
       "comb      0\n",
       "dtype: int64"
      ]
     },
     "execution_count": 128,
     "metadata": {},
     "output_type": "execute_result"
    }
   ],
   "source": [
    "test.isna().sum()"
   ]
  },
  {
   "cell_type": "code",
   "execution_count": 120,
   "id": "e5b387e0",
   "metadata": {},
   "outputs": [],
   "source": [
    "test = test.drop('id', axis=1)\n",
    "\n",
    "test = test.reset_index()"
   ]
  },
  {
   "cell_type": "code",
   "execution_count": 121,
   "id": "3cefecd5",
   "metadata": {},
   "outputs": [],
   "source": [
    "df_eval = test"
   ]
  },
  {
   "cell_type": "code",
   "execution_count": 122,
   "id": "4bf3c17b",
   "metadata": {},
   "outputs": [],
   "source": [
    "df_eval['comb']=df_eval['author']+\"_\"+df_eval['title']#+df['text']      # Combined all the features "
   ]
  },
  {
   "cell_type": "code",
   "execution_count": 123,
   "id": "34a456df",
   "metadata": {},
   "outputs": [],
   "source": [
    "df_eval['comb']=df['comb'].apply(clean)"
   ]
  },
  {
   "cell_type": "code",
   "execution_count": 124,
   "id": "f2f4ba24",
   "metadata": {},
   "outputs": [
    {
     "data": {
      "text/html": [
       "<div>\n",
       "<style scoped>\n",
       "    .dataframe tbody tr th:only-of-type {\n",
       "        vertical-align: middle;\n",
       "    }\n",
       "\n",
       "    .dataframe tbody tr th {\n",
       "        vertical-align: top;\n",
       "    }\n",
       "\n",
       "    .dataframe thead th {\n",
       "        text-align: right;\n",
       "    }\n",
       "</style>\n",
       "<table border=\"1\" class=\"dataframe\">\n",
       "  <thead>\n",
       "    <tr style=\"text-align: right;\">\n",
       "      <th></th>\n",
       "      <th>index</th>\n",
       "      <th>title</th>\n",
       "      <th>author</th>\n",
       "      <th>text</th>\n",
       "      <th>target</th>\n",
       "      <th>comb</th>\n",
       "    </tr>\n",
       "  </thead>\n",
       "  <tbody>\n",
       "    <tr>\n",
       "      <th>0</th>\n",
       "      <td>0</td>\n",
       "      <td>Specter of Trump Loosens Tongues, if Not Purse...</td>\n",
       "      <td>David Streitfeld</td>\n",
       "      <td>PALO ALTO, Calif.  —   After years of scorning...</td>\n",
       "      <td>0</td>\n",
       "      <td>darrel lucu hou dem aid even see comey letter ...</td>\n",
       "    </tr>\n",
       "    <tr>\n",
       "      <th>1</th>\n",
       "      <td>1</td>\n",
       "      <td>Russian warships ready to strike terrorists ne...</td>\n",
       "      <td>unavailable</td>\n",
       "      <td>Russian warships ready to strike terrorists ne...</td>\n",
       "      <td>1</td>\n",
       "      <td>daniel j flynn flynn hillari clinton big woman...</td>\n",
       "    </tr>\n",
       "    <tr>\n",
       "      <th>2</th>\n",
       "      <td>2</td>\n",
       "      <td>#NoDAPL: Native American Leaders Vow to Stay A...</td>\n",
       "      <td>Common Dreams</td>\n",
       "      <td>Videos #NoDAPL: Native American Leaders Vow to...</td>\n",
       "      <td>0</td>\n",
       "      <td>consortiumnew com truth might get fire</td>\n",
       "    </tr>\n",
       "    <tr>\n",
       "      <th>3</th>\n",
       "      <td>3</td>\n",
       "      <td>Tim Tebow Will Attempt Another Comeback, This ...</td>\n",
       "      <td>Daniel Victor</td>\n",
       "      <td>If at first you don’t succeed, try a different...</td>\n",
       "      <td>1</td>\n",
       "      <td>jessica purkiss civilian kill singl us airstri...</td>\n",
       "    </tr>\n",
       "    <tr>\n",
       "      <th>4</th>\n",
       "      <td>4</td>\n",
       "      <td>Keiser Report: Meme Wars (E995)</td>\n",
       "      <td>Truth Broadcast Network</td>\n",
       "      <td>42 mins ago 1 Views 0 Comments 0 Likes 'For th...</td>\n",
       "      <td>1</td>\n",
       "      <td>howard portnoy iranian woman jail fiction unpu...</td>\n",
       "    </tr>\n",
       "  </tbody>\n",
       "</table>\n",
       "</div>"
      ],
      "text/plain": [
       "   index                                              title   \n",
       "0      0  Specter of Trump Loosens Tongues, if Not Purse...  \\\n",
       "1      1  Russian warships ready to strike terrorists ne...   \n",
       "2      2  #NoDAPL: Native American Leaders Vow to Stay A...   \n",
       "3      3  Tim Tebow Will Attempt Another Comeback, This ...   \n",
       "4      4                    Keiser Report: Meme Wars (E995)   \n",
       "\n",
       "                    author                                               text   \n",
       "0         David Streitfeld  PALO ALTO, Calif.  —   After years of scorning...  \\\n",
       "1              unavailable  Russian warships ready to strike terrorists ne...   \n",
       "2            Common Dreams  Videos #NoDAPL: Native American Leaders Vow to...   \n",
       "3            Daniel Victor  If at first you don’t succeed, try a different...   \n",
       "4  Truth Broadcast Network  42 mins ago 1 Views 0 Comments 0 Likes 'For th...   \n",
       "\n",
       "   target                                               comb  \n",
       "0       0  darrel lucu hou dem aid even see comey letter ...  \n",
       "1       1  daniel j flynn flynn hillari clinton big woman...  \n",
       "2       0             consortiumnew com truth might get fire  \n",
       "3       1  jessica purkiss civilian kill singl us airstri...  \n",
       "4       1  howard portnoy iranian woman jail fiction unpu...  "
      ]
     },
     "execution_count": 124,
     "metadata": {},
     "output_type": "execute_result"
    }
   ],
   "source": [
    "df_eval.head()"
   ]
  },
  {
   "cell_type": "code",
   "execution_count": 130,
   "id": "36152362",
   "metadata": {},
   "outputs": [
    {
     "data": {
      "text/plain": [
       "(5200, 6)"
      ]
     },
     "execution_count": 130,
     "metadata": {},
     "output_type": "execute_result"
    }
   ],
   "source": [
    "df_eval.shape"
   ]
  },
  {
   "cell_type": "code",
   "execution_count": 185,
   "id": "2132c65c",
   "metadata": {},
   "outputs": [
    {
     "data": {
      "text/html": [
       "<div>\n",
       "<style scoped>\n",
       "    .dataframe tbody tr th:only-of-type {\n",
       "        vertical-align: middle;\n",
       "    }\n",
       "\n",
       "    .dataframe tbody tr th {\n",
       "        vertical-align: top;\n",
       "    }\n",
       "\n",
       "    .dataframe thead th {\n",
       "        text-align: right;\n",
       "    }\n",
       "</style>\n",
       "<table border=\"1\" class=\"dataframe\">\n",
       "  <thead>\n",
       "    <tr style=\"text-align: right;\">\n",
       "      <th></th>\n",
       "      <th>comb</th>\n",
       "      <th>target</th>\n",
       "    </tr>\n",
       "  </thead>\n",
       "  <tbody>\n",
       "    <tr>\n",
       "      <th>0</th>\n",
       "      <td>darrel lucu hou dem aid even see comey letter ...</td>\n",
       "      <td>0</td>\n",
       "    </tr>\n",
       "    <tr>\n",
       "      <th>1</th>\n",
       "      <td>daniel j flynn flynn hillari clinton big woman...</td>\n",
       "      <td>1</td>\n",
       "    </tr>\n",
       "    <tr>\n",
       "      <th>2</th>\n",
       "      <td>consortiumnew com truth might get fire</td>\n",
       "      <td>0</td>\n",
       "    </tr>\n",
       "    <tr>\n",
       "      <th>3</th>\n",
       "      <td>jessica purkiss civilian kill singl us airstri...</td>\n",
       "      <td>1</td>\n",
       "    </tr>\n",
       "    <tr>\n",
       "      <th>4</th>\n",
       "      <td>howard portnoy iranian woman jail fiction unpu...</td>\n",
       "      <td>1</td>\n",
       "    </tr>\n",
       "    <tr>\n",
       "      <th>...</th>\n",
       "      <td>...</td>\n",
       "      <td>...</td>\n",
       "    </tr>\n",
       "    <tr>\n",
       "      <th>5195</th>\n",
       "      <td>mac slavo digit lock googl facebook take aim f...</td>\n",
       "      <td>0</td>\n",
       "    </tr>\n",
       "    <tr>\n",
       "      <th>5196</th>\n",
       "      <td>pam key comey make mildli nauseou think might ...</td>\n",
       "      <td>1</td>\n",
       "    </tr>\n",
       "    <tr>\n",
       "      <th>5197</th>\n",
       "      <td>unavail jesu come closet</td>\n",
       "      <td>0</td>\n",
       "    </tr>\n",
       "    <tr>\n",
       "      <th>5198</th>\n",
       "      <td>georg zapo volunt succeed elimin food wast hunger</td>\n",
       "      <td>1</td>\n",
       "    </tr>\n",
       "    <tr>\n",
       "      <th>5199</th>\n",
       "      <td>javier c hern ndez china deploy aircraft carri...</td>\n",
       "      <td>0</td>\n",
       "    </tr>\n",
       "  </tbody>\n",
       "</table>\n",
       "<p>5200 rows × 2 columns</p>\n",
       "</div>"
      ],
      "text/plain": [
       "                                                   comb  target\n",
       "0     darrel lucu hou dem aid even see comey letter ...       0\n",
       "1     daniel j flynn flynn hillari clinton big woman...       1\n",
       "2                consortiumnew com truth might get fire       0\n",
       "3     jessica purkiss civilian kill singl us airstri...       1\n",
       "4     howard portnoy iranian woman jail fiction unpu...       1\n",
       "...                                                 ...     ...\n",
       "5195  mac slavo digit lock googl facebook take aim f...       0\n",
       "5196  pam key comey make mildli nauseou think might ...       1\n",
       "5197                           unavail jesu come closet       0\n",
       "5198  georg zapo volunt succeed elimin food wast hunger       1\n",
       "5199  javier c hern ndez china deploy aircraft carri...       0\n",
       "\n",
       "[5200 rows x 2 columns]"
      ]
     },
     "execution_count": 185,
     "metadata": {},
     "output_type": "execute_result"
    }
   ],
   "source": [
    "df_eval[['comb', 'target']]"
   ]
  },
  {
   "cell_type": "code",
   "execution_count": 188,
   "id": "a487c6b1",
   "metadata": {},
   "outputs": [],
   "source": [
    "c = count_vectorizer.transform(df_eval['comb'].values)\n",
    "features = transformer.transform(c)"
   ]
  },
  {
   "cell_type": "code",
   "execution_count": 189,
   "id": "e0a67237",
   "metadata": {},
   "outputs": [
    {
     "data": {
      "text/plain": [
       "array([0, 1, 0, ..., 0, 1, 0])"
      ]
     },
     "execution_count": 189,
     "metadata": {},
     "output_type": "execute_result"
    }
   ],
   "source": [
    "target = df_eval['target'].values\n",
    "target"
   ]
  },
  {
   "cell_type": "code",
   "execution_count": 190,
   "id": "f8da0030",
   "metadata": {},
   "outputs": [],
   "source": [
    "X_eval1, X_eval2, y_eval1, y_eval2 = train_test_split(features, target)"
   ]
  },
  {
   "cell_type": "code",
   "execution_count": 191,
   "id": "8604d1fa",
   "metadata": {},
   "outputs": [],
   "source": [
    "prediction = model_lr.predict(X_eval1)"
   ]
  },
  {
   "cell_type": "code",
   "execution_count": 193,
   "id": "e159b074",
   "metadata": {
    "scrolled": false
   },
   "outputs": [
    {
     "name": "stdout",
     "output_type": "stream",
     "text": [
      "              precision    recall  f1-score   support\n",
      "\n",
      "           0       0.46      0.51      0.48      1758\n",
      "           1       0.56      0.51      0.53      2142\n",
      "\n",
      "    accuracy                           0.51      3900\n",
      "   macro avg       0.51      0.51      0.51      3900\n",
      "weighted avg       0.51      0.51      0.51      3900\n",
      "\n",
      "[[ 888  870]\n",
      " [1045 1097]]\n"
     ]
    }
   ],
   "source": [
    "print(classification_report(y_eval1, prediction))\n",
    "print(confusion_matrix(y_eval1, prediction))"
   ]
  },
  {
   "cell_type": "code",
   "execution_count": 180,
   "id": "6d5de88d",
   "metadata": {},
   "outputs": [],
   "source": [
    "c = count_vectorizer.transform(np.array([\"Kareem it is the end of the world\"]))\n",
    "features = transformer.transform(c)"
   ]
  },
  {
   "cell_type": "code",
   "execution_count": 181,
   "id": "1500538d",
   "metadata": {},
   "outputs": [
    {
     "data": {
      "text/plain": [
       "array([1])"
      ]
     },
     "execution_count": 181,
     "metadata": {},
     "output_type": "execute_result"
    }
   ],
   "source": [
    "model_lr.predict(features)"
   ]
  },
  {
   "cell_type": "markdown",
   "id": "9852be53",
   "metadata": {},
   "source": [
    "# Save Models"
   ]
  },
  {
   "cell_type": "code",
   "execution_count": 195,
   "id": "cd184746",
   "metadata": {},
   "outputs": [],
   "source": [
    "import pickle"
   ]
  },
  {
   "cell_type": "code",
   "execution_count": 197,
   "id": "02f81e00",
   "metadata": {},
   "outputs": [],
   "source": [
    "filename = 'final models/model_lr.sav'\n",
    "pickle.dump(model_lr, open(filename, 'wb'))"
   ]
  },
  {
   "cell_type": "code",
   "execution_count": 198,
   "id": "af4d1755",
   "metadata": {},
   "outputs": [],
   "source": [
    "filename = 'final models/svc_model.sav'\n",
    "pickle.dump(svc_model, open(filename, 'wb'))"
   ]
  },
  {
   "cell_type": "code",
   "execution_count": 200,
   "id": "1296b9d0",
   "metadata": {},
   "outputs": [],
   "source": [
    "filename = 'final models/tree_final_model.sav'\n",
    "pickle.dump(tree_final_model, open(filename, 'wb'))"
   ]
  },
  {
   "cell_type": "code",
   "execution_count": 201,
   "id": "03784809",
   "metadata": {},
   "outputs": [],
   "source": [
    "filename = 'final models/rfc_model.sav'\n",
    "pickle.dump(rfc_model, open(filename, 'wb'))"
   ]
  },
  {
   "cell_type": "markdown",
   "id": "004f397d",
   "metadata": {},
   "source": [
    "- ## Save Vectorizers"
   ]
  },
  {
   "cell_type": "code",
   "execution_count": 203,
   "id": "b7ec277b",
   "metadata": {},
   "outputs": [],
   "source": [
    "filename = 'final models/count_victorizer.sav'\n",
    "pickle.dump(count_vectorizer, open(filename, 'wb'))"
   ]
  },
  {
   "cell_type": "code",
   "execution_count": 204,
   "id": "96c45bab",
   "metadata": {},
   "outputs": [],
   "source": [
    "filename = 'final models/tfidf_transformer.sav'\n",
    "pickle.dump(transformer, open(filename, 'wb'))"
   ]
  },
  {
   "cell_type": "markdown",
   "id": "41c71849",
   "metadata": {},
   "source": [
    "- ## Save Models"
   ]
  },
  {
   "cell_type": "code",
   "execution_count": null,
   "id": "fa385462",
   "metadata": {},
   "outputs": [],
   "source": []
  },
  {
   "cell_type": "code",
   "execution_count": null,
   "id": "5c6214ab",
   "metadata": {},
   "outputs": [],
   "source": []
  },
  {
   "cell_type": "code",
   "execution_count": null,
   "id": "414ae910",
   "metadata": {},
   "outputs": [],
   "source": []
  },
  {
   "cell_type": "code",
   "execution_count": null,
   "id": "0d817d30",
   "metadata": {},
   "outputs": [],
   "source": []
  }
 ],
 "metadata": {
  "kernelspec": {
   "display_name": "Python 3 (ipykernel)",
   "language": "python",
   "name": "python3"
  },
  "language_info": {
   "codemirror_mode": {
    "name": "ipython",
    "version": 3
   },
   "file_extension": ".py",
   "mimetype": "text/x-python",
   "name": "python",
   "nbconvert_exporter": "python",
   "pygments_lexer": "ipython3",
   "version": "3.10.6"
  }
 },
 "nbformat": 4,
 "nbformat_minor": 5
}
